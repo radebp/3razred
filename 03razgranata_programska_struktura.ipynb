{
 "cells": [
  {
   "cell_type": "markdown",
   "metadata": {},
   "source": [
    "<p style=\"text-align:center;\">Раде Стојаковић, Гимназија \"20. октобар\" Бачка Паланка</p>"
   ]
  },
  {
   "cell_type": "markdown",
   "metadata": {},
   "source": [
    "[Почетна страница](00pocetna.ipynb)"
   ]
  },
  {
   "cell_type": "markdown",
   "metadata": {},
   "source": [
    "**У овој лекцији можете прочитати:**  \n",
    "- [о разгранатој програмској структури](#Разграната-програмска-структура)\n",
    "- [o релацијским операторима](#Релацијски-оператори-(оператори-поређења))\n",
    "- [o правилном увлачењу наредби](#Правила-увлачења-наредби-унутар-if-наредбе)\n",
    "- [Задаци за вежбу](#Задаци-за-вежбу)\n",
    "\n"
   ]
  },
  {
   "cell_type": "markdown",
   "metadata": {},
   "source": [
    "## Разграната програмска структура"
   ]
  },
  {
   "cell_type": "markdown",
   "metadata": {},
   "source": [
    "Програми које смо до сада користили функционисалису тако да се свака наредба које смо писали извршавала и извршавала се тачно наведеним редоследом то јест тачно у од прве до последње. Пошто се наредбе извршавају редоследом од прве до последње такве структура програма назива се **линијска структура**. \n",
    "Коришћење само линијске структуре у програму је доста ретко пошто се мали скуп проблема може решити само линијском структуром. \n",
    "У креирању програма користе се три врсте структура: **линијска**, **разграната** и **циклична** као и њихове међусобне комбинације. "
   ]
  },
  {
   "cell_type": "markdown",
   "metadata": {},
   "source": [
    "<img src=\"slike/strukture.jpg\" width=700px>"
   ]
  },
  {
   "cell_type": "markdown",
   "metadata": {},
   "source": [
    "На горњој слици можемо видети функционисање све три програмске структуре. Код разгранатих структура програм може да се наставља једном или другом граном, у зависности да ли је лигички услов тачан или није. На слици је за разгранату структуру приказан један од могућих речења. У нареднм лекцијама ћемо упознати разне облике разгранате структуре.\n",
    "Код цикличних структура (учићемо их нешто касније) извршавање одређене наредбе или групе наредби се понавља свњ док је логички услов тачан тско чинећи **петљу**. Оног тренутка када услов више није тачан, петља се завршава и наставља са следећим наредбама."
   ]
  },
  {
   "cell_type": "markdown",
   "metadata": {},
   "source": [
    "Присетимо се програма којим смо исписивали број година ученика. У програм треба да се унесе име ученика и година рођења, а програм исписује колико ученик има година. "
   ]
  },
  {
   "cell_type": "code",
   "execution_count": null,
   "metadata": {},
   "outputs": [],
   "source": [
    "# u program se unosi ime učenika i godina rođenja\n",
    "# ispisuje se koliko učenik ima godina\n",
    "\n",
    "from datetime import datetime # uvoženje modula za rad sa datumima\n",
    "\n",
    "ime = input('Unesite ime učenika: ')\n",
    "god_rodjenja = int(input('Unesite godinu rođenja učenika: '))\n",
    "\n",
    "# trenutnu godinu dobijamo korišćenjem klase datetime koja sadrži metodu now() \n",
    "# Njena vrednost je trenutni datum.\n",
    "# Argumentom year iz trenutnog datuma se izdvaja godina\n",
    "\n",
    "sadasnja_god = datetime.now().year\n",
    "\n",
    "# računamo broj godina učenika\n",
    "starost = sadasnja_god - god_rodjenja\n",
    "\n",
    "print(f'Dobar dan {ime}, ti imaš {starost} godina.')"
   ]
  },
  {
   "cell_type": "markdown",
   "metadata": {},
   "source": [
    "Ако желимо да исписујемо поруку да је ученик пунолетан, морамо прво проверити да ли је старост већа од 17. Ако јесте исписаћемо поруку да је ученик пунолетан.\n",
    "Да би то решили морамо користити <span style=\"color:blue\"><strong>разгранату структуру</strong></span> и `if` наредбу.\n"
   ]
  },
  {
   "cell_type": "markdown",
   "metadata": {},
   "source": [
    "**Општа структура if наредбе изгледа овако**:\n",
    "```Python\n",
    "naredbe pre if naredbe\n",
    "\n",
    "if logički_uslov:\n",
    "    naredba\n",
    "    \n",
    "nаredbe posle if naredbe\n",
    "```\n",
    "Ако је логички услов испуњен (**тачан**) извршава се наредба која је наведена после дефинисања услова. Ако услов није испуњен (**нетачан**) наредба која је наведена после услова се прескаче (не извршава) и прелази се на прву наредбу после `if` наредбе.\n",
    "\n",
    "Следећа слика графички приказује изглед једноставне разгранате структуре њеног општег облика и структуре за пример програма за исписивање поруке да је ученик пунолетан, ."
   ]
  },
  {
   "cell_type": "markdown",
   "metadata": {},
   "source": [
    "<table>\n",
    "    <tr>\n",
    "        <td style=\"width:300px\"><img src=\"slike/opsta_struktura.jpg\" width=300px></td>\n",
    "        <td style=\"width:600px\"><img src=\"slike/struktura_punoletan.jpg\" width=300px></td>\n",
    "    </tr>\n",
    "    </table>"
   ]
  },
  {
   "cell_type": "markdown",
   "metadata": {},
   "source": [
    "Програм са разгранатом структуром који би решио проблем са исписивањем поруке ако је ученик пунолетан бисмо могли писати на следећи начин:"
   ]
  },
  {
   "cell_type": "code",
   "execution_count": null,
   "metadata": {},
   "outputs": [],
   "source": [
    "from datetime import datetime\n",
    "\n",
    "# naredbe pre if naredbe\n",
    "ime = input('Unesite ime učenika: ')\n",
    "god_rodjenja = int(input('Unesite godinu rođenja učenika: '))\n",
    "\n",
    "sadasnja_god = datetime.now().year\n",
    "starost = sadasnja_god - god_rodjenja\n",
    "\n",
    "# postavljanje i proveravanje logičkog uslova\n",
    "if starost > 17:\n",
    "    print(f'Dobar dan {ime}, ti imaš {starost} godina.')\n",
    "\n",
    "# naredba posle if naredbe\n",
    "print('Kraj programa')"
   ]
  },
  {
   "cell_type": "markdown",
   "metadata": {},
   "source": [
    "Приликом покретања програма, од корисника се тражи да унесе име ученика и годину рођења. Након тога се у програму рачуна старост ученика и ако је старост већа од 17 исписује се порука."
   ]
  },
  {
   "cell_type": "markdown",
   "metadata": {},
   "source": [
    "У горњем примеру се, ако је логички услов испуњен исписује (извршава) само једна наредба - да је ученик пунолетан. Могуће је навести и већи број наредби у склопу `if` наредбе. \n",
    "\n",
    "Ако се треба извршавати више наредби тада би `if` наредба могла изгледати на следећи начин:\n",
    "```Python\n",
    "if starost > 17:\n",
    "    print('Učenik je punoletan')\n",
    "    print('Može da vozi automobil')\n",
    "    print('Učestvuje na izborima')\n",
    "```"
   ]
  },
  {
   "cell_type": "markdown",
   "metadata": {},
   "source": [
    "### Релацијски оператори (оператори поређења)"
   ]
  },
  {
   "cell_type": "markdown",
   "metadata": {},
   "source": [
    "У горњим преимерима смо видели да се наредба унутар if нардбе извршава ако је лугички услов тачан. Да ли је услов тачан одлучује се на основу поређења старости ученика и броја 17. Приликом креирања логичког услова користе се **релациони оператори** или **оператори поређења**. Они нам омогућавају да поредимо две вредности. Помоћу њих поредимо вредности са леве стране са вредностима са десне стране оператора.\n",
    "\n",
    "У следећој табели приказани су релациони оператори које морамо користити приликом писања if наредбе:\n",
    "\n",
    "<img src=\"slike/relacioni_operatori.jpg\" width=350px  >\n",
    "\n",
    "Уколико у изразу постоји релациони оператор, резултат тог израза може имати једну од две вреднсти: **True** (тачно) или  **False** (нетачно).\n"
   ]
  },
  {
   "cell_type": "markdown",
   "metadata": {},
   "source": [
    "У следећих неколико примерa можемо испробати резултате коришћења реалционих оператора. Слободно мењајте вредности и релационе операторе и проверите шта ће бити вредност израза."
   ]
  },
  {
   "cell_type": "code",
   "execution_count": null,
   "metadata": {},
   "outputs": [],
   "source": [
    "x = 4\n",
    "y = 5\n",
    "z = 9\n",
    "print('4.',x > y)\n",
    "print('5.',y > x)\n",
    "print('6.',y >= y)\n",
    "print('7.',y <= x)\n",
    "print('8.',x != y)\n",
    "print('9.',x + z != y)\n",
    "print('10.',x + y == y)\n",
    "print('11.',z // x <= z % y)"
   ]
  },
  {
   "cell_type": "markdown",
   "metadata": {},
   "source": [
    "### Правила увлачења наредби унутар `if` наредбе"
   ]
  },
  {
   "cell_type": "markdown",
   "metadata": {},
   "source": [
    "У досадашњим примерима `if` наредбе може се видети да се након навођења логичког услова наредбе које се извршавају ако је услов тачан увлаче у односу на `if` наредбу. У Пајтону је увлачење наредби у разгранатој структури веома важно и неправилно увлачење доводи до синтаксних грешака.\n",
    "\n",
    "У следећем примеру све три `print` се функције морају писати тако да буду увучене у односу на `if` наредбу. Дужина увлачења није строго дефинисана али се стандардно наредбе увлаче за 4 места. \n",
    "\n",
    "```Python\n",
    "if starost > 17:\n",
    "    print('Učenik je punoletan')\n",
    "    print('Može da vozi automobil')\n",
    "    print('Učestvuje na izborima')\n",
    "```\n",
    "\n",
    "Потребно је нагласити да већина едитора у којима пишете програм сами воде рачуна о увлачењу линија али је неопходно о томе водити рачуна. Исто тако, ако сами подешавате увлачење, не треб акористити `Tab` тастер на тастатури већ увлачење подесити коришћењем размака."
   ]
  },
  {
   "cell_type": "markdown",
   "metadata": {},
   "source": [
    "На следећој слици је још једном приказано како се врши писање наредбе гранања и на шт атреб аобратити приликом писања  `if`наредбе.\n",
    "\n",
    "<img src=\"slike/delovi_if_naredbe.jpg\" width=650px>"
   ]
  },
  {
   "cell_type": "markdown",
   "metadata": {},
   "source": [
    "### Задаци за вежбу"
   ]
  },
  {
   "cell_type": "markdown",
   "metadata": {},
   "source": [
    "**1. задатак за вежбу:**\n",
    "написати програм у који се уноси број и испитује да ли је дељив са 7. Ако је дељив тада се исписује прикаладна порука."
   ]
  },
  {
   "cell_type": "code",
   "execution_count": null,
   "metadata": {},
   "outputs": [],
   "source": [
    "# unošenje broja\n",
    "\n",
    "# naredba grananja sa logičkim uslovom i ispisivanjem poruke\n",
    "\n"
   ]
  },
  {
   "cell_type": "markdown",
   "metadata": {},
   "source": [
    "**2. задатак за вежбу:**\n",
    "написати програм у који се уноси име и месец рођења. Ако је ученик рођен овог месеца исписати поруку `ime učenika, srećan rođendan!` На пример ако је за име ученика унесено Jovana и за месец рођења тренутни месец треб ада пише порука:\n",
    "\n",
    "```code\n",
    "Јovana, srećan ti rođendan!\n",
    "```"
   ]
  },
  {
   "cell_type": "code",
   "execution_count": null,
   "metadata": {},
   "outputs": [],
   "source": [
    "# uvoženje modula datetime\n",
    "\n",
    "# unošenje imena učenika\n",
    "\n",
    "# unošenje meseca rođenja\n",
    "\n",
    "# provera da li je mesec rođenja jednak trenutnom mesecu i ispisivanje poruke\n",
    "\n",
    "\n"
   ]
  },
  {
   "cell_type": "markdown",
   "metadata": {},
   "source": [
    "**3. задатак за вежбу:** У програм се уносе три броја. Исписати збир само позитивних бројева."
   ]
  },
  {
   "cell_type": "code",
   "execution_count": null,
   "metadata": {},
   "outputs": [],
   "source": [
    "# unošenje tri broja\n",
    "\n",
    "\n",
    "\n",
    "# postavljanje početne vrednosti promenljive zbir na nulu\n",
    "\n",
    "# ispitivanje da li je prvi broj pozitivan (ako jeste uvećati zbir za vrednost broja)\n",
    "\n",
    "\n",
    "# ispitivanje da li je drugi broj pozitivan (ako jeste uvećati zbir za vrednost broja)\n",
    "\n",
    "\n",
    "# ispitivanje da li je treći broj pozitivan (ako jeste uvećati zbir za vrednost broja)\n",
    "\n",
    "\n",
    "# ispisati vrednost zbira\n"
   ]
  }
 ],
 "metadata": {
  "kernelspec": {
   "display_name": "Python 3",
   "language": "python",
   "name": "python3"
  },
  "language_info": {
   "codemirror_mode": {
    "name": "ipython",
    "version": 3
   },
   "file_extension": ".py",
   "mimetype": "text/x-python",
   "name": "python",
   "nbconvert_exporter": "python",
   "pygments_lexer": "ipython3",
   "version": "3.7.4"
  }
 },
 "nbformat": 4,
 "nbformat_minor": 2
}
