{
 "cells": [
  {
   "cell_type": "markdown",
   "metadata": {
    "deletable": false,
    "editable": false
   },
   "source": [
    "<p style=\"text-align:center;\">Раде Стојаковић, Гимназија \"20. октобар\" Бачка Паланка</p>"
   ]
  },
  {
   "cell_type": "markdown",
   "metadata": {
    "deletable": false,
    "editable": false
   },
   "source": [
    "<div style=\"height:50px; background-color:#cceeff; padding:5px; border-radius:5px\">\n",
    "\n",
    "### <center>  Задаци са **`while`** петљом - 2. део </center>\n",
    "</div>"
   ]
  },
  {
   "cell_type": "markdown",
   "metadata": {
    "deletable": false,
    "editable": false
   },
   "source": [
    "1.\tУноси се удаљеност до летовалишта у км. Уноси се колико смо км прешли у сваком дану. Исписује се колико нам још преостаје км до доласка на одредиште. На крају исписати да смо стигли и колико нам је дана требало. \n",
    "\n",
    "<img src=\"slike/whilezadacislike/2deo/while2deo - 1.png\" width=300px align=\"left\" style=\"margin-left:120px\">\n",
    "<img src=\"slike/whilezadacislike/2deo/while2deo - 1-2.png\" width=300px align=\"left\" style=\"margin-left:120px\">"
   ]
  },
  {
   "cell_type": "code",
   "execution_count": 1,
   "metadata": {},
   "outputs": [],
   "source": [
    "# ovde pišete kod za 1. zadatak\n"
   ]
  },
  {
   "cell_type": "markdown",
   "metadata": {
    "deletable": false,
    "editable": false
   },
   "source": [
    "2.\tУноси се цена и количина производа и рачуна укупни износ за плаћање. Крај уноса се обезбеђује уношењем негативне цене.\n",
    "\n",
    "<img src=\"slike/whilezadacislike/2deo/while2deo - 2.png\" width=300px  align=\"left\" style=\"margin-left:120px\">\n",
    "<img src=\"slike/whilezadacislike/2deo/while2deo - 2-2.png\" width=300px align=\"left\" style=\"margin-left:120px\">"
   ]
  },
  {
   "cell_type": "code",
   "execution_count": 2,
   "metadata": {},
   "outputs": [],
   "source": [
    "# ovde pišete kod za 2. zadatak\n"
   ]
  },
  {
   "cell_type": "markdown",
   "metadata": {
    "deletable": false,
    "editable": false
   },
   "source": [
    "3.\tИзрачунати просечну температуру за непознат број дана. Престанак уноса се обезбеђује уношењем празног стринга (само притиском на Ентер).\n",
    "\n",
    "<img src=\"slike/whilezadacislike/2deo/while2deo - 3.png\" width=300px  align=\"left\"  style=\"margin-left:120px\">\n",
    "<img src=\"slike/whilezadacislike/2deo/while2deo - 3-2.png\" width=350px align=\"left\" style=\"margin-left:120px\">"
   ]
  },
  {
   "cell_type": "code",
   "execution_count": 3,
   "metadata": {},
   "outputs": [],
   "source": [
    "# ovde pišete kod za 3. zadatak\n"
   ]
  },
  {
   "cell_type": "markdown",
   "metadata": {
    "deletable": false,
    "editable": false
   },
   "source": [
    "4.\tИзрачунати просечну оцене за ученика. Крај петље се обезбеђује уношењем 0 (нула) за оцену. Ако ученик има 1 тада је просек 1.00.\n",
    "\n",
    "<img src=\"slike/whilezadacislike/2deo/while2deo-4-1.png\" width=280px align=\"left\">\n",
    "<img src=\"slike/whilezadacislike/2deo/while2deo-4-2.png\" width=280px align=\"left\" style=\"margin-left:50px\">\n",
    "<img src=\"slike/whilezadacislike/2deo/while2deo-4-3.png\" width=280px align=\"left\" style=\"margin-left:50px\">"
   ]
  },
  {
   "cell_type": "code",
   "execution_count": 4,
   "metadata": {},
   "outputs": [],
   "source": [
    "# ovde pišete kod za 4. zadatak\n"
   ]
  },
  {
   "cell_type": "markdown",
   "metadata": {
    "deletable": false,
    "editable": false
   },
   "source": [
    "5.\tИсписати стање на рачуну ако се уноси уплате и исплата (уплата је позитиван број, а исплата негативан број). Крај петље ће бити притиском на Enter (празан податак)\n",
    "\n",
    "<img src=\"slike/whilezadacislike/2deo/while2deo-5.png\" width=300px align=\"left\" style=\"margin-left:120px\">"
   ]
  },
  {
   "cell_type": "code",
   "execution_count": 5,
   "metadata": {},
   "outputs": [],
   "source": [
    "# ovde pišete kod za 5. zadatak\n"
   ]
  },
  {
   "cell_type": "markdown",
   "metadata": {
    "deletable": false,
    "editable": false
   },
   "source": [
    "6.\tУнети произвољан број и исписати збир цифара унесеног броја.\n",
    "\n",
    "<img src=\"slike/whilezadacislike/2deo/while2deo-6.png\" width=300px align=\"left\" style=\"margin-left:120px\">\n",
    "<img src=\"slike/whilezadacislike/2deo/while2deo-6-2.png\" width=300px align=\"left\" style=\"margin-left:120px\">"
   ]
  },
  {
   "cell_type": "code",
   "execution_count": 6,
   "metadata": {},
   "outputs": [],
   "source": [
    "# ovde pišete kod za 6. zadatak\n"
   ]
  },
  {
   "cell_type": "markdown",
   "metadata": {
    "deletable": false,
    "editable": false
   },
   "source": [
    "7.\tНасумично се бира број између 1 и 100. Погађати који је број изабран док се не погоди број. Исписати из ког покушаја је погођен број.\n",
    "\n",
    "<img src=\"slike/whilezadacislike/2deo/while2deo-7.png\" width=400px align=\"left\" style=\"margin-left:120px\">"
   ]
  },
  {
   "cell_type": "code",
   "execution_count": 7,
   "metadata": {},
   "outputs": [],
   "source": [
    "# ovde pišete kod za 7. zadatak\n"
   ]
  },
  {
   "cell_type": "markdown",
   "metadata": {
    "deletable": false,
    "editable": false
   },
   "source": [
    "8.\tНасумично се бирају два броја у интервалу између 10 и 100. Исписивати збир два броја и број тачних и погрешних одговора као и % успешности. Крај сабирања обезбедити притиском на ентер.\n",
    "\n",
    "<img src=\"slike/whilezadacislike/2deo/while2deo-8.png\" width=250px align=\"left\" style=\"margin-left:120px\">\n",
    "<img src=\"slike/whilezadacislike/2deo/while2deo-8-2.png\" width=300px align=\"left\" style=\"margin-left:120px\">"
   ]
  },
  {
   "cell_type": "code",
   "execution_count": 8,
   "metadata": {},
   "outputs": [],
   "source": [
    "# ovde pišete kod za 8. zadatak\n"
   ]
  },
  {
   "cell_type": "markdown",
   "metadata": {
    "deletable": false,
    "editable": false
   },
   "source": [
    "9.\tУноси се оцене ученика док се не унесе празан стринг. Исписати просечну оцену. Не дозволити унос погрешне оцене (мање од 1 и веће од 5). Исписати просечну оцену.\n",
    "\n",
    "Могући резултати рада програма:\n",
    "\n",
    "<img src=\"slike/whilezadacislike/2deo/while2deo-9.png\" width=250px align=\"left\" style=\"margin-left:60px\">\n",
    "<img src=\"slike/whilezadacislike/2deo/while2deo-9-2.png\" width=250px align=\"left\" style=\"margin-left:50px\">\n",
    "<img src=\"slike/whilezadacislike/2deo/while2deo-9-3.png\" width=250px align=\"left\" style=\"margin-left:50px\">\n",
    "<img src=\"slike/whilezadacislike/2deo/while2deo-9-4.png\" width=350px align=\"left\" style=\"margin-left:80px\">"
   ]
  },
  {
   "cell_type": "code",
   "execution_count": 9,
   "metadata": {},
   "outputs": [],
   "source": [
    "# ovde pišete kod za 9. zadatak\n"
   ]
  }
 ],
 "metadata": {
  "kernelspec": {
   "display_name": "Python 3",
   "language": "python",
   "name": "python3"
  },
  "language_info": {
   "codemirror_mode": {
    "name": "ipython",
    "version": 3
   },
   "file_extension": ".py",
   "mimetype": "text/x-python",
   "name": "python",
   "nbconvert_exporter": "python",
   "pygments_lexer": "ipython3",
   "version": "3.7.5"
  }
 },
 "nbformat": 4,
 "nbformat_minor": 2
}
