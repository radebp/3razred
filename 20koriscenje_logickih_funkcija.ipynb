{
 "cells": [
  {
   "cell_type": "markdown",
   "metadata": {},
   "source": [
    "<p style=\"text-align:center;\">Раде Стојаковић, Гимназија \"20. октобар\" Бачка Паланка</p>"
   ]
  },
  {
   "cell_type": "markdown",
   "metadata": {},
   "source": [
    "[Почетна страница](00pocetna.ipynb)"
   ]
  },
  {
   "cell_type": "markdown",
   "metadata": {},
   "source": [
    "## Коришћење логичких функција"
   ]
  },
  {
   "cell_type": "markdown",
   "metadata": {},
   "source": [
    "У Пајтону је могуће писати логичке функције које враћају вредности Труе или Фалсе. Логичке функције се могу користити за проверавање услова и враћање вредност тачно или нетачно да би одредили да ли је одређени услов испуњен или не.<br>\n",
    "Логичке функције су корисне да би поједноставиле сложене услове који се проверавају приликом коришћења разгранатих или цикличних структура.<br>\n",
    "На пример претпоставимо да пишемо програм који ће од корисника тражити да унесе број и тада проверити да ли је он паран или непаран.<br>\n",
    "Следећи код приказује како можемо извршити проверу\n",
    "\n",
    "\n",
    "```Python\n",
    "broj = int(input('Unesite broj: '))\n",
    "if broj % 2 == 0:\n",
    "    print('Broj je patan.')\n",
    "else:\n",
    "    print('Broj je neparan.')\n",
    "```\n",
    "Да бисмо то урадили можемо написати логичку функцију под именом **`jeste_paran`** која прихвата број као аргумент и враћа **`True`** ако је број паран или **`False`** ако није.<br>"
   ]
  },
  {
   "cell_type": "code",
   "execution_count": 2,
   "metadata": {},
   "outputs": [],
   "source": [
    "def jeste_paran(broj):\n",
    "    # proverava se da li je broj paran. Ako jeste vrednost promenljive status je True, \n",
    "    # a u suprotnom vrednost promenljive status je False\n",
    "    if broj % 2 == 0:\n",
    "        status = True\n",
    "    else:\n",
    "        status = False\n",
    "\n",
    "    # iz funkcije se vraća vrednost promenljive status\n",
    "    return status"
   ]
  },
  {
   "cell_type": "markdown",
   "metadata": {},
   "source": [
    "Затим можемо написати наредбу којом се позива функција јесте_паран да би одредили да ли је број паран:"
   ]
  },
  {
   "cell_type": "code",
   "execution_count": null,
   "metadata": {},
   "outputs": [],
   "source": [
    "broj = int(input('Unesite broj: '))\n",
    "if jeste_paran(broj):\n",
    "    print('Broj je paran.')\n",
    "else:\n",
    "    print('Broj je neparan.')"
   ]
  },
  {
   "attachments": {},
   "cell_type": "markdown",
   "metadata": {},
   "source": [
    "Сада кад имамо овако дефинисану функцију можемо је позвати било где у програму када је потребно да проверимо да ли је број паран или непаран."
   ]
  },
  {
   "cell_type": "markdown",
   "metadata": {},
   "source": [
    "### Коришћење логичких функција за проверу (валидацију) кода"
   ]
  },
  {
   "cell_type": "markdown",
   "metadata": {},
   "source": [
    "Логичке функције можемо користити да бисмо поједноставили сложенију проверу тачности уноса података. На пример можемо написати програм којим се тражи од корисника да унесе оцену и потребно је прихватити само исправна оцене.\n",
    "\n",
    "Проверу уноса исправне оцене могли бисмо обавити на следећи начин\n",
    "\n",
    "```Python\n",
    "    # unošenje ocene\n",
    "    ocena = int(input('Unesite ocenu učenika: '))\n",
    "\n",
    "    # provera ispravnosti ocene\n",
    "    while ocena < 1 or ocena > 5:\n",
    "        print('Ocena mora biti od 1 do 5!')\n",
    "        ocena = int(input('Unesite ocenu učenika: '))\n",
    " ```\n",
    " У горњем примеру петља за проверу уноса оцене користи логички израз који ће се понављати све док је оцена погрешна тј. док је мања од 1 или већа од 5. Иако је описани начин добар, можемо поједноставити проверу уноса оцена позивањем логичке функције у петљи.<br>\n",
    "Оцену коју смо унели прослеђујемо функцији која проверава да ли је постављени услов тачан тј. да ли је оцена погрешна и враћа **`True`** ако је цена погрешна, а **`False`** ако је исправна.\n",
    "\n",
    "```Python\n",
    "    # provera ispravnosti ocene\n",
    "    while pogresna_ocena(ocena):\n",
    "        print('Ocena mora biti od 1 do 5!')\n",
    "        ocena = int(input('Unesite ocenu učenika: '))\n",
    "```\n",
    "Овакав начин поједностављује запис који је лакши за читање. Сада је јасно да ће се петља извршавати све док је унесена оцена погрешна.<br>\n",
    "Следећи код приказује како би могли писати функцију **`pogresna_ocena`**. Она прихвата оцену као аргумент и ако је оцена мања од 1 или ако је оцена већа од 5 враћа **`True`** што значи да је унесена погрешна оцена. У супротном функција враћа **`False`**.\n",
    "\n",
    "```Python\n",
    "def pogresna_ocena(ocena):\n",
    "    if ocena < 1 or ocena > 5:\n",
    "        status = True\n",
    "    else:\n",
    "        status = False\n",
    "    return status\n",
    "```\n",
    "Пример готовог програма би могао изгледати овако:"
   ]
  },
  {
   "cell_type": "code",
   "execution_count": null,
   "metadata": {},
   "outputs": [],
   "source": [
    "# main funkcija u kojoj se unosi broj ocena i ispisuje rezultat\n",
    "def main():\n",
    "    brojOcena = int(input('Koliko ocena unosite: '))\n",
    "    prosek = prosek_ocena(brojOcena)\n",
    "    print(f'\\nProsecna ocena iznosi {prosek:.2f}')\n",
    "\n",
    "# funkcija u kojoj se unose ocene i računa prosek\n",
    "def prosek_ocena(broj):\n",
    "    zbir = 0\n",
    "    for i in range(1, broj + 1):\n",
    "        ocena = int(input(f'Unesite {i}. ocenu ucenika: '))\n",
    "        # petlja koja poziva se funkcija koja proverava ocenu\n",
    "        # petlja traje sve dok se unosi pogrešna ocena\n",
    "        while pogresna_ocena(ocena):\n",
    "            print('Ocena mora biti od 1 do 5!')\n",
    "            ocena = int(input(f'Unesite {i}. ocenu ucenika: '))\n",
    "\n",
    "        # kada je ocen aispravna dodaje se na dosadašnji zbir\n",
    "        zbir += ocena\n",
    "\n",
    "    # izračunavanje prosečne ocene\n",
    "    pros_ocena = zbir / broj\n",
    "    return pros_ocena\n",
    "\n",
    "def pogresna_ocena(oc):\n",
    "    if oc < 1 or oc > 5:\n",
    "        return True\n",
    "    else:\n",
    "        return False\n",
    "    \n",
    "main()"
   ]
  },
  {
   "cell_type": "markdown",
   "metadata": {},
   "source": [
    "[врх странице](#Коришћење-логичких-функција)"
   ]
  }
 ],
 "metadata": {
  "kernelspec": {
   "display_name": "Python 3",
   "language": "python",
   "name": "python3"
  },
  "language_info": {
   "codemirror_mode": {
    "name": "ipython",
    "version": 3
   },
   "file_extension": ".py",
   "mimetype": "text/x-python",
   "name": "python",
   "nbconvert_exporter": "python",
   "pygments_lexer": "ipython3",
   "version": "3.7.6"
  }
 },
 "nbformat": 4,
 "nbformat_minor": 2
}
