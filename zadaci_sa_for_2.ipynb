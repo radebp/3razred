{
 "cells": [
  {
   "cell_type": "markdown",
   "metadata": {},
   "source": [
    "**<center>Раде Стојаковић - Гимназија \"20. октобар\" Бачка Паланка</center>**"
   ]
  },
  {
   "cell_type": "markdown",
   "metadata": {},
   "source": [
    "<div style=\"height:50px; background-color:#cceeff; padding:5px; border-radius:5px\">\n",
    "\n",
    "### <center>  Задаци са for петљом - 2. део </center>\n",
    "</div>"
   ]
  },
  {
   "cell_type": "markdown",
   "metadata": {
    "deletable": false,
    "editable": false
   },
   "source": [
    "<div style=\"font-size:15px\">\n",
    "\n",
    "1. У интервалу од **`k`** до **`n`** исписати бројеве који су дељиви са 5. <br>\n",
    "<br>\n",
    "2.\tЗа време трчања трошите 4.2 калорије за 1 минут. Испишите табелу утрошених калорија за 5, 10, 15, 20 25 и 30 минута трчања.<br>\n",
    "\n",
    "|Minuti|Kalorije|\n",
    "|------|--------|\n",
    "|5     |      21|\n",
    "|10    |      42|\n",
    "|15    |      63|\n",
    "|20    |      84|\n",
    "|25    |     105|\n",
    "|30    |     126|\n",
    "\n",
    "3.\tУноси се **`n`** бројева. Исписати  укупан збир парних и укупан збир непарних.<br>\n",
    "<br>\n",
    "4.\tУносе се температуре за **`n`** дана. Ако је температура у дану испод 15 степени потребно је грејање, а ако је 15 и виша није потребно грејање. Исписати колико је дана било потребно грејање, а колико није.<br>\n",
    "<br>\n",
    "\n",
    "5.\tЗа **`n`** ученика се уноси број неоправданих изостанака. Ако ученик има више од 5 неоправданих добија укор. Исписати укупан број неоправданих изостанака, просечан број неоправданих изостанака, број ученика са укором и број ученика без укора.<br>\n",
    "<br>\n",
    "6.\tИсписати табелу брзина у километрима на сат и миљама на сат од 10 до 100 у корацима од 10. (У првој колони су приказани километри на сат, а у другој еквивалент у миљама на сат.) 1 км = 0.62137 миље<br>\n",
    "\n",
    "\n",
    "|km/h|milje/h|\n",
    "|------|--------|\n",
    "|10    |    6.21|\n",
    "|20    |   12.42|\n",
    "|30    |   18.63|\n",
    "|40    |   24.84|\n",
    "|50    |   31.05|\n",
    "|60    |   37.26|\n",
    "|70    |   43.47|\n",
    "|80    |   49.68|\n",
    "|90    |   55.89|\n",
    "|100   |   62.10|\n",
    "\n",
    "7.\tОрганизована група посетилаца долази у зоолошки врт. У зависности од година посетилаца цене су различите. Деца млађа од 5 година не плаћају ништа, деца од 5 до 15 година плаћају пола цене, а остали пуну цену. Унети број особа и пуну цену. Затим уносити године сваке особе и на крају исписати колика је укупна цена за целу групу.<br>\n",
    "<br>\n",
    "8. Написати програм у коме се уноси број и степен. Исписати колико износи број на унесени степен не користећи операцију степеновања (нпр. ако се унесе 3 и 5 треба исписати колико износи $3^5$) <br>\n",
    " <br>\n",
    "9. Уноси се број и исписује факторијел тог броја (на пример ако се унесе број 6 треба исписати $6!$ тј. $1*2*3*4*5*6$<br>\n",
    "<br>\n",
    "10.\tПрограм **`N`** пута насумично бира  два броја између 1 и 7 (укључујући и 1 и 7). Ако збир два броја износи до 7 (2, 3, 4, 5, 6 или 7) добија се 4 бода. Ако је збир већи губи се 1 бод. Исписати укупан број бодова на крају игре.<br>\n",
    "<br>\n",
    "11.\tПрограм **`N`** пута насумично бира  два броја између 10 и 100. Корисник треба да упише колики је збир два броја. На крају програма се исписује колико је тачних и колико нетачних одговора и проценат успешности.\n",
    "</div>\n"
   ]
  },
  {
   "cell_type": "code",
   "execution_count": null,
   "metadata": {},
   "outputs": [],
   "source": [
    "# ovde pišete kod za 1. zadatak\n"
   ]
  },
  {
   "cell_type": "code",
   "execution_count": null,
   "metadata": {},
   "outputs": [],
   "source": [
    "# ovde pišete kod za 2. zadatak\n"
   ]
  },
  {
   "cell_type": "code",
   "execution_count": null,
   "metadata": {},
   "outputs": [],
   "source": [
    "# ovde pišete kod za 3. zadatak\n"
   ]
  },
  {
   "cell_type": "code",
   "execution_count": null,
   "metadata": {},
   "outputs": [],
   "source": [
    "# ovde pišete kod za 4. zadatak\n"
   ]
  },
  {
   "cell_type": "code",
   "execution_count": null,
   "metadata": {},
   "outputs": [],
   "source": [
    "# ovde pišete kod za 5. zadatak\n"
   ]
  },
  {
   "cell_type": "code",
   "execution_count": null,
   "metadata": {},
   "outputs": [],
   "source": [
    "# ovde pišete kod za 6. zadatak\n"
   ]
  },
  {
   "cell_type": "code",
   "execution_count": null,
   "metadata": {},
   "outputs": [],
   "source": [
    "# ovde pišete kod za 7. zadatak\n"
   ]
  },
  {
   "cell_type": "code",
   "execution_count": null,
   "metadata": {},
   "outputs": [],
   "source": [
    "# ovde pišete kod za 8. zadatak\n"
   ]
  },
  {
   "cell_type": "code",
   "execution_count": null,
   "metadata": {},
   "outputs": [],
   "source": [
    "# ovde pišete kod za 9. zadatak\n"
   ]
  },
  {
   "cell_type": "code",
   "execution_count": null,
   "metadata": {},
   "outputs": [],
   "source": [
    "# ovde pišete kod za 10. zadatak\n"
   ]
  },
  {
   "cell_type": "code",
   "execution_count": null,
   "metadata": {},
   "outputs": [],
   "source": [
    "# ovde pišete kod za 11. zadatak\n"
   ]
  },
  {
   "cell_type": "markdown",
   "metadata": {},
   "source": [
    "<div style=\"height:140px; background-color:#cceeff; padding:10px; border-radius:5px\">\n",
    "\n",
    "<strong>Када урадите све задатке (или оне које знате да урадите) можете да урадите следеће:</strong>\n",
    "* из менија **`File`** изаберите **`Download аs`** и ставку **`HTML (html)`** - сачувате за себе\n",
    "* из менија **`File`** изаберите **`Download аs`** и ставку **`Notebook (ipynb)`** - пошаљете мени\n",
    "* приликом чувања допишите ваше име за име документа који преузимате\n"
   ]
  }
 ],
 "metadata": {
  "kernelspec": {
   "display_name": "Python 3",
   "language": "python",
   "name": "python3"
  },
  "language_info": {
   "codemirror_mode": {
    "name": "ipython",
    "version": 3
   },
   "file_extension": ".py",
   "mimetype": "text/x-python",
   "name": "python",
   "nbconvert_exporter": "python",
   "pygments_lexer": "ipython3",
   "version": "3.7.5"
  }
 },
 "nbformat": 4,
 "nbformat_minor": 2
}
