{
 "cells": [
  {
   "cell_type": "markdown",
   "metadata": {},
   "source": [
    "<p style=\"text-align:center;\">Раде Стојаковић, Гимназија \"20. октобар\" Бачка Паланка</p>"
   ]
  },
  {
   "cell_type": "markdown",
   "metadata": {},
   "source": [
    "[Почетна страница](00pocetna.ipynb)"
   ]
  },
  {
   "cell_type": "markdown",
   "metadata": {},
   "source": [
    "### Циклусна променљива у телу петље"
   ]
  },
  {
   "cell_type": "markdown",
   "metadata": {},
   "source": [
    "Коришћење **`for`** петље заснива се на вредностима које добија циклусна промењива из секвенце вредности која се наводи у заглављу петље. Циклусна промењива може се користити у две сврхе:\n",
    "\n",
    "-\tједна је да само одређује колико корака ће бити у петљи\n",
    "-\tдруга је да њену вредност користимо у наредбама које се наводе у телу петље\n",
    "\n",
    "Погледајмо први пример када циклусна променљива само служи да броји кораке петље тј. да само одређује број понављања наредби у телу петље:"
   ]
  },
  {
   "cell_type": "code",
   "execution_count": null,
   "metadata": {},
   "outputs": [],
   "source": [
    "korak = 1\n",
    "for brojac in range(5):   # петља се извршава 5 пута\n",
    "    print(f'Naredba se izvršava {brojac}. put')\n",
    "    korak = korak + 1"
   ]
  },
  {
   "cell_type": "markdown",
   "metadata": {},
   "source": [
    "У следећем примеру ћемо циклусну променљиву користити у наредби у телу петље. На тај начин ће циклусна променљива одређивати број понављања наредби у телу петље, а уједно ће се користити и у телу петље:"
   ]
  },
  {
   "cell_type": "code",
   "execution_count": null,
   "metadata": {},
   "outputs": [],
   "source": [
    "for brojac in range(5):   # петља се извршава 5 пута\n",
    "    print(f'Vrednost ciklusne promenljive {brojac}. Petlja se izvršava {brojac + 1}. put')"
   ]
  },
  {
   "cell_type": "markdown",
   "metadata": {},
   "source": [
    "Претпоставимо да желимо написати програм који приказује бројеве од 1 до 10 и њихове квадрате у табели приказаној на слици\n",
    "\n",
    "![](slike/07tabelaBrojKvadrat.png)"
   ]
  },
  {
   "cell_type": "markdown",
   "metadata": {},
   "source": [
    "Посматрајући табелу можемо закључити да се исписивање броја и његовог квадрата извршава 10 пута. Наредбу за исписивање ћемо ставити у петљу и извршити 10 пута. У првом кораку циклусна промењива ће добити вредност **`1,`** у другом вредност **`2`** и тако да све до броја **`10`**.\n",
    "\n",
    "Пошто желимо да прикажемо бројеве и квадрате од 1 до 10 можемо вредности циклусне променљиве искористити за рачунање квадрата и њихово приказивање.<br>\n",
    "Програм који обавља тај задатак могли бисмо приказати дијаграмом тока:\n",
    "![](slike/05tabelabrojevaikvadrata.png)"
   ]
  },
  {
   "cell_type": "markdown",
   "metadata": {},
   "source": [
    "На почетку програма, пре писања петље, приказаћемо заглавље табеле тако што ћемо исписати речи **`Broj`** и **`Kvadrat`**. Након тога пишемо **`for`** петљу. Од раније знамо да се петља извршава све док има ставки у секвенци која је наведена у заглављу петље. Сама **`for`** петља осмишљена је тако да проверава да ли има још ставки у секвенци коју креира **`range`** функција и, ако има, тада се циклусној променљивој додељује следеће вредност из секвенце.\n",
    "\n",
    "Након тога се извршавају наредбе у телу петље и исписује вредност циклусне променљиве **`broj`** и промењиве **`kvadrat.`**\n",
    "\n",
    "Након тога проверава се да ли има још ставки у секвенци тј. да ли је циклусна примењива дошла до краја секвенце. Ако има још ставки, циклусној епромењивој се додељује следећа вредност и извршава тело петље.\n",
    "\n",
    "Оног тренутка када више нема ставки у секвенци завршава се петља и прелази на прву следећу наредбу после петље или се завршава програм.\n",
    "\n",
    "Програм за исписивање бројева од 1 до 10 и њихових квадрата би могли писати овако:"
   ]
  },
  {
   "cell_type": "code",
   "execution_count": null,
   "metadata": {},
   "outputs": [],
   "source": [
    "# Program koristi petlju za ispisivanje # brojeva i njihovih kvadrata od 1 do 10\n",
    "# u obliku male tabele\n",
    "# Pre petlje ispisujemo zaglavlje tabele\n",
    "print(\"Broj\\tKvadrat\")\n",
    "print(\"----------------\")\n",
    "\n",
    "# koristeći for petlju koja se odvija\n",
    "# 10 puta ispisujemo broj i njegov kvadrat\n",
    "\n",
    "for broj in range(1,11):\n",
    "    kvadrat = broj ** 2\n",
    "    print(f' {broj}  \\t  {kvadrat}')"
   ]
  },
  {
   "cell_type": "markdown",
   "metadata": {},
   "source": [
    "Програм функционише на следећи начин:\n",
    "\n",
    "<span style=\"color:red; font-weight:700\">линија 4</span> - написали смо заглавље табеле у коме ће писати реч **`Broj`** и **`Kvadrat.`** Да бисмо раздвојили речи користили смо специјални карактер **`\\t`** који функционише као притисак на `Таб` тастер на тастатури тј. прави већи размак између карактера.\n",
    "**`for`** петља почиње у <span style=\"color:red; font-weight:700\">линији 10</span> и користи **`range`** функцију која ће производити секвенцу бројева од 1 до 10.\n",
    "У телу петље (<span style=\"color:red; font-weight:700\">линија 11</span>) степеноваћемо вредност циклусне променљиве бројем 2 и ту вредност доделити променљивој квадрат.\n",
    "У другој наредби у телу петље (<span style=\"color:red; font-weight:700\">линија 12</span>) користимо **`print`** функцију да испишемо вредност циклусне променљиве и променљиве **`kvadrat`** одвојене специјалним табулаторским карактером.\n"
   ]
  },
  {
   "cell_type": "markdown",
   "metadata": {},
   "source": [
    "#### Задатак за вежбу\n",
    "Пошто се програмирање најбоље учи вежбајући - пишући код, пред вама је задатак за самостални рад.\n",
    "\n",
    "Задатак гласи: Напишите програм који ће приказати вредност брзине у километрима на сат (km/h) и еквивалента у миљама на сат (miles/h).\n",
    "\n",
    "Формула коју можете користити за израчунавање је: $miljeNaSat = kmNaSat * 0.6214$\n",
    "\n",
    "Резултата рада програма може да изгледа овако:\n",
    "![Milje na sta u km na sat](slike/08tabelaKmMilje.png)\n"
   ]
  },
  {
   "cell_type": "code",
   "execution_count": null,
   "metadata": {},
   "outputs": [],
   "source": [
    "# овде напишите заглавље табеле\n",
    "print(???)\n",
    "print(???)\n",
    "print(???)\n",
    "\n",
    "# овде напишите for петлју\n",
    "for ?? in range(??????):\n",
    "    "
   ]
  },
  {
   "cell_type": "markdown",
   "metadata": {},
   "source": [
    "### Одређивање секвенце током извршавања програма"
   ]
  },
  {
   "cell_type": "markdown",
   "metadata": {},
   "source": [
    "У већини случајева програмер зна тачан број понављања наредби у телу петље. То смо видели у једном од претходних примера где смо исписивали бројеве од 1 до 10 и њихове квадрате. Такав програм ће увек приказивати бројеве и њихове квадрате од 1 до 10 без обзира колико пута га пута покренемо. Такви програми који увек раде само једну ствар нису нарочито корисни.\n",
    "\n",
    "Исто тако често је потребно дозволити корисницима да у току рада програма одређују колико ће се пута петља извршавати. На пример много корисније би било да омогућимо кориснику да одреди крајњи број до којег ће се исписивати бројеви и њихови квадрати. У том случају петља би се извршавала различит број пута у зависности шта корисник унесе са тастатуре. \n",
    "\n",
    "Напишимо програм у коме ће корисниок одредити крајњи број до којег ће се исписивати бројеви и њихови квадрати."
   ]
  },
  {
   "cell_type": "code",
   "execution_count": null,
   "metadata": {},
   "outputs": [],
   "source": [
    "# program koristi petlju za ispisivanje\n",
    "# tabele brojeva i njihovih kvadrata\n",
    "\n",
    "# Unošenje krajnje vrednosti\n",
    "print(\"Program prikazuje listu brojeva i njihovih kvadrata od 1\")\n",
    "print(\"do unesenog broja sa tastature.\")\n",
    "kraj = int(input(\"\\nDo kog broja želite ispisivanje: \"))\n",
    "\n",
    "# ispisivanje zaglavlja tabele\n",
    "print(\"\\nBroj\\tKvadrat\")\n",
    "print(\"----------------\")\n",
    "\n",
    "# ispisivanje brojeva i njihovih kvadrata\n",
    "for broj in range(1, kraj + 1):\n",
    "    kvadrat = broj ** 2\n",
    "    print(f' {broj}  \\t  {kvadrat}')\n"
   ]
  },
  {
   "cell_type": "markdown",
   "metadata": {},
   "source": [
    "Видимо да смо у овом примеру пре писања **`for`** петље омогућили кориснику да унесе крајњи број секвенце тј. број до којег ће се исписивати бројеви и њихови квадрати. Ту вредност смо доделили промењивој **`kraj`** (**линија 7**). Након тога у заглављу петље смо навели **`kraj + 1`** као други аргумент **`range`** функције (**линија 14**). Морали смо додати 1 на вредност променљиве **`kraj`** пошто желимо да вредност променљиве **`kraj`** такође буде исписана као последња вредност. У супротном исписивали би се бројеви до вредности променљиве **`kraj`** **али не и њена вредност.**.\n",
    "\n",
    "Следећи програм илуструје уношење вредности за оба аргумента **`range`** функције и за почетак и за крај секвенце:\n"
   ]
  },
  {
   "cell_type": "code",
   "execution_count": null,
   "metadata": {},
   "outputs": [],
   "source": [
    "# program koristi petlju za ispisvanje\n",
    "# tabele brojeva i njihovih kvadrata\n",
    "\n",
    "# Unošenje početne vrednosti\n",
    "print(\"Program prikazuje listu brojeva\")\n",
    "print(\"i njihovih kvadrata.\")\n",
    "pocetak = int(input(\"\\nOd kog broja zelite ispisivanje: \"))\n",
    "\n",
    "# Unošenje krajnje vrednosti\n",
    "kraj = int(input(\"Do kog broja zelite ispisivanje: \"))\n",
    "\n",
    "# ispisivanje zaglavlja tabele\n",
    "print(\"\\nBroj\\tKvadrat\")\n",
    "print(\"-\" * 15)\n",
    "\n",
    "# ispisivanje brojeva i njihovih kvadrata\n",
    "for broj in range(pocetak, kraj + 1):\n",
    "    print(f' {broj:>2}\\t{ broj ** 2:4}')\n"
   ]
  }
 ],
 "metadata": {
  "kernelspec": {
   "display_name": "Python 3",
   "language": "python",
   "name": "python3"
  },
  "language_info": {
   "codemirror_mode": {
    "name": "ipython",
    "version": 3
   },
   "file_extension": ".py",
   "mimetype": "text/x-python",
   "name": "python",
   "nbconvert_exporter": "python",
   "pygments_lexer": "ipython3",
   "version": "3.7.5"
  }
 },
 "nbformat": 4,
 "nbformat_minor": 2
}
