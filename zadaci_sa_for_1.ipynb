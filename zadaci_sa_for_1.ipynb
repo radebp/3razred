{
 "cells": [
  {
   "cell_type": "markdown",
   "metadata": {},
   "source": [
    "**<center>Гимназија \"20. октобар\" Бачка Паланка</center>**"
   ]
  },
  {
   "cell_type": "markdown",
   "metadata": {},
   "source": [
    "### <center>  Задаци са for петљом - 1. део </center>"
   ]
  },
  {
   "cell_type": "markdown",
   "metadata": {},
   "source": [
    "1. Исписати бројеве од 1 до 5\n",
    "2. Исписати парне бројеве од 1 до унесеног броја са тастатуре\n",
    "3. Исписати број, квадрат и корен за бројеве од **`k`** до **`n`** (**`k`** и **`n`** су почетна и крајња вредност)\n",
    "4. Исписати збир бројева који нису дељиви са 5 у интервалу који се уноси са тастатуре\n",
    "5. Исписати збир **`n`** унесених бројева\n",
    "6. Исписати број унесених петица од 5 унесених бројева\n",
    "7. Израцунати средњу вредност за **`n`** унесених бројева\n",
    "8. Израчунати средњу оцену за **`n`** унесених оцена (ако има 1 тада је средња оцена 1,00)"
   ]
  },
  {
   "cell_type": "code",
   "execution_count": null,
   "metadata": {},
   "outputs": [],
   "source": [
    "# Ispisati brojeve od 1 do 5\n",
    "for brojac in range(5):\n",
    "    print(brojac)"
   ]
  },
  {
   "cell_type": "code",
   "execution_count": null,
   "metadata": {},
   "outputs": [],
   "source": [
    "# Ispisati parne brojeve od 1 do unesenog broja sa tastature\n",
    "kraj = int(input('Unesi krajnji broj za ispisivanje: '))\n",
    "for broj in range(2, kraj + 1, 2):\n",
    "    print(broj, end = ' ')  # brojevi se ispisuju jedan pored drugog odvojeni zarezima\n",
    "\n",
    "# end = ' ' znači da će se nakon ispisivanja broja ispisati razmak i \n",
    "# nastavlja se seledeće ispisivanje u istom redu"
   ]
  },
  {
   "cell_type": "code",
   "execution_count": null,
   "metadata": {},
   "outputs": [],
   "source": [
    "## Ispisati broj, kvadrat i koren za brojeve od k do n\n",
    "from math import sqrt\n",
    "k = int(input('Unesi početak intervala: '))\n",
    "n = int(input('Unesi kraj intervala: '))\n",
    "print('\\nBroj\\tKvadrat\\tKoren')  # \\n specijalni znak za prelazak u novi red\n",
    "print('=' * 25)\n",
    "for broj in range(k, n+1):\n",
    "    print(f'{broj:<8}{broj**2:<8}{sqrt(broj):.2f}')\n",
    "\n",
    "# <8 vrednost će biti ispisana na početku područja od 8 mesta\n",
    "# >8 područje od 8 mesta će se popunjavati zdesna na levo"
   ]
  },
  {
   "cell_type": "code",
   "execution_count": null,
   "metadata": {},
   "outputs": [],
   "source": [
    "# Ispisati zbir brojeva koji nisu deljivi sa 5 u intervalu koji se unosi sa tastature\n",
    "k = int(input('Unesi početak intervala: '))\n",
    "n = int(input('Unesi kraj intervala: '))\n",
    "zbir = 0\n",
    "for i in range(k, n+1):\n",
    "    if i % 5 > 0:\n",
    "        zbir = zbir + i\n",
    "print('Zbir iznosi',zbir)"
   ]
  },
  {
   "cell_type": "code",
   "execution_count": null,
   "metadata": {},
   "outputs": [],
   "source": [
    "# Ispisati zbir n unesenih brojeva\n",
    "zbir = 0\n",
    "n = int(input('Koliko brojeva unosiš: '))\n",
    "for i in range(n):\n",
    "    broj = int(input(f'Unesi {i + 1}. broj: '))\n",
    "    zbir = zbir + broj\n",
    "print('Zbir unesenih brojeva je:',zbir)"
   ]
  },
  {
   "cell_type": "code",
   "execution_count": null,
   "metadata": {},
   "outputs": [],
   "source": [
    "# Ispisati broj unesenih petica od 5 unesenih brojeva\n",
    "brojPetica = 0\n",
    "print('Unesite 5 brojeva')\n",
    "for brojac in range(5):\n",
    "    broj = int(input('Unesi broj: '))\n",
    "    if broj == 5:\n",
    "        brojPetica = brojPetica + 1\n",
    "if brojPetica > 0:\n",
    "    print('Broj unesenih petica:',brojPetica)\n",
    "else:\n",
    "    print('Niste uneli nijednu peticu')"
   ]
  },
  {
   "cell_type": "code",
   "execution_count": null,
   "metadata": {},
   "outputs": [],
   "source": [
    "# Izracunati srednju vrednost za n unesenih brojeva\n",
    "n = int(input('Koliko brojeva unosiš: '))\n",
    "zbir = 0\n",
    "for i in range(1, n + 1):\n",
    "    broj = int(input(f'Unesi {i}. broj'))\n",
    "    zbir = zbir + broj\n",
    "print(f'Srednja vrednost brojeva iznosi {zbir/n:.2f}')"
   ]
  },
  {
   "cell_type": "code",
   "execution_count": null,
   "metadata": {},
   "outputs": [],
   "source": [
    "# Izračunati srednju ocenu za n unesenih ocena (ako ima 1 tada je srednja ocena 1,00)\n",
    "zbir = 0\n",
    "brojJedinica = 0\n",
    "n = int(input('Koliko ocena unosiš: '))\n",
    "for i in range(n):\n",
    "    ocena = int(input(f'{i + 1}. ocena: '))\n",
    "    if ocena == 1:\n",
    "        brojJedinica = brojJedinica + 1\n",
    "    else:\n",
    "        zbir = zbir + ocena\n",
    "if brojJedinica == 0:\n",
    "    print(f'Prosek ocena iznosi: {zbir / n:.2f}')\n",
    "else:\n",
    "    print('Prosek ocena iznosi 1.00')"
   ]
  },
  {
   "cell_type": "code",
   "execution_count": null,
   "metadata": {},
   "outputs": [],
   "source": []
  }
 ],
 "metadata": {
  "kernelspec": {
   "display_name": "Python 3",
   "language": "python",
   "name": "python3"
  },
  "language_info": {
   "codemirror_mode": {
    "name": "ipython",
    "version": 3
   },
   "file_extension": ".py",
   "mimetype": "text/x-python",
   "name": "python",
   "nbconvert_exporter": "python",
   "pygments_lexer": "ipython3",
   "version": "3.7.5"
  }
 },
 "nbformat": 4,
 "nbformat_minor": 2
}
