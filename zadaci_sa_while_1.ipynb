{
 "cells": [
  {
   "cell_type": "markdown",
   "metadata": {},
   "source": [
    "<p style=\"text-align:center;\">Раде Стојаковић, Гимназија \"20. октобар\" Бачка Паланка</p>"
   ]
  },
  {
   "cell_type": "markdown",
   "metadata": {},
   "source": [
    "<div style=\"height:50px; background-color:#cceeff; padding:5px; border-radius:5px\">\n",
    "\n",
    "### <center>  Задаци са **`while`** петљом - 1. део </center>\n",
    "</div>"
   ]
  },
  {
   "cell_type": "markdown",
   "metadata": {
    "deletable": false,
    "editable": false
   },
   "source": [
    "1. Сабирати бројеве од 1 па редом (2,3,4,5...) док збир не пређе **`x`** (уноси се са тастатуре). Исписати коначан збир и број који смо последњи сабрали. \n",
    "<img src=\"slike/whilezadacislike/while1deo-1.png\" width=400px; style=\"margin-left:120px\">"
   ]
  },
  {
   "cell_type": "code",
   "execution_count": null,
   "metadata": {},
   "outputs": [],
   "source": [
    "# ovde pišete kod za 1. zadatak\n"
   ]
  },
  {
   "cell_type": "markdown",
   "metadata": {
    "deletable": false,
    "editable": false
   },
   "source": [
    "2. Сабирати произвољно унесене бројеве док збир не пређе **`x`** (уноси се са тастатуре). Исписати коначан збир и број бројева које смо унели.\n",
    "<img src=\"slike/whilezadacislike/while1deo-2.jpg\" width=300px; style=\"margin-left:120px\">"
   ]
  },
  {
   "cell_type": "code",
   "execution_count": null,
   "metadata": {},
   "outputs": [],
   "source": [
    "# ovde pišete kod za 2. zadatak\n"
   ]
  },
  {
   "cell_type": "markdown",
   "metadata": {
    "deletable": false,
    "editable": false
   },
   "source": [
    "3. Уноси се број и степен. Исписати колики је број на степен (нпр 2 и 5 - колико је 2 на 5-и степен - $2^5$)\n",
    "<img src=\"slike/whilezadacislike/while1deo-3.jpg\" width=250px; style=\"margin-left:120px\">"
   ]
  },
  {
   "cell_type": "code",
   "execution_count": null,
   "metadata": {},
   "outputs": [],
   "source": [
    "# ovde pišete kod za 3. zadatak\n"
   ]
  },
  {
   "cell_type": "markdown",
   "metadata": {
    "deletable": false,
    "editable": false
   },
   "source": [
    "4. Уноси се број. Исписати факторијел тог броја. Факторијел броја 6 ($6!$) добија се тако што се множе бројеви од 1 до 6 - $1 * 2 * 3 * 4 * 5 * 6$ \n",
    "<img src=\"slike/whilezadacislike/while1deo-4.jpg\" width=250px; style=\"margin-left:120px\">"
   ]
  },
  {
   "cell_type": "code",
   "execution_count": null,
   "metadata": {},
   "outputs": [],
   "source": [
    "# ovde pišete kod za 4. zadatak\n"
   ]
  },
  {
   "cell_type": "markdown",
   "metadata": {
    "deletable": false,
    "editable": false
   },
   "source": [
    "5. Насумично се бирају 3 броја у интервалу од 1 до 7. Исписати колико је бирања било потребно док се не изаберу сва три иста броја.\n",
    "<img src=\"slike/whilezadacislike/while1deo-5.jpg\" width=350px; style=\"margin-left:120px\">"
   ]
  },
  {
   "cell_type": "code",
   "execution_count": null,
   "metadata": {},
   "outputs": [],
   "source": [
    "# ovde pišete kod za 5. zadatak\n"
   ]
  },
  {
   "cell_type": "markdown",
   "metadata": {
    "deletable": false,
    "editable": false
   },
   "source": [
    "6. Тркач првог дана претрчи 200 метара. Сваког следећег дана претрчи 10% више него претходног дана. Исписати колико му треба дана док без престанка не претрчи 1 км.\n",
    "<img src=\"slike/whilezadacislike/while1deo-6.jpg\" width=350px; style=\"margin-left:120px\">"
   ]
  },
  {
   "cell_type": "code",
   "execution_count": null,
   "metadata": {},
   "outputs": [],
   "source": [
    "# ovde pišete kod za 6. zadatak\n"
   ]
  }
 ],
 "metadata": {
  "kernelspec": {
   "display_name": "Python 3",
   "language": "python",
   "name": "python3"
  },
  "language_info": {
   "codemirror_mode": {
    "name": "ipython",
    "version": 3
   },
   "file_extension": ".py",
   "mimetype": "text/x-python",
   "name": "python",
   "nbconvert_exporter": "python",
   "pygments_lexer": "ipython3",
   "version": "3.7.5"
  }
 },
 "nbformat": 4,
 "nbformat_minor": 2
}
