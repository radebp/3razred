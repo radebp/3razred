{
 "cells": [
  {
   "cell_type": "markdown",
   "metadata": {},
   "source": [
    "<p style=\"text-align:center;\">Раде Стојаковић, Гимназија \"20. октобар\" Бачка Паланка</p>"
   ]
  },
  {
   "cell_type": "markdown",
   "metadata": {},
   "source": [
    "<h2 style=\"background-color:lightblue; font-size:16pt; color:#0000ff; line-height:350%; text-align:center;\">Основе програмирања у Пајтону</h2>\n",
    "<h3 style=\"font-size:12pt; line-height:150%; text-align:center;\">Лекције за 3. разред гимназије</h3>"
   ]
  },
  {
   "cell_type": "markdown",
   "metadata": {},
   "source": [
    "<h3 style=\"background-color:#ccffcc; font-size:12pt; line-height:250%; padding:3px \">Садржај</h3>"
   ]
  },
  {
   "cell_type": "markdown",
   "metadata": {},
   "source": [
    "<div style=\"font-size:13pt; line-height:1.5em\">\n",
    "  <ol>\n",
    "   <li><a href=\"01rad_sa_stringovima.ipynb\" target=\"_self\">Рад са стринговима</a></li>\n",
    "   <li><a href=\"02promenljive_unos_ispis_podataka.ipynb\" target=\"_self\">Променљиве, унос и испис података</a></li>\n",
    "   <li>Разграната програмска структура\n",
    "     <ul>\n",
    "       <li><a href=\"03razgranata_programska_struktura.ipynb\" target=\"_self\">О разгранатој структури - if наредба</a></li>\n",
    "       <li><a href=\"04visestruko_grananje_if_else_naredba.ipynb\" target=\"_self\">Вишеструко гранање - if-else наредба</a>\n",
    "       <li><a href=\"05ugnezdena_razgranata_struktura_(if-elif-else).ipynb\" target=\"_self\">Угнеждена структура if-elif-else наредба</a></li>\n",
    "     </ul>\n",
    "  </li>\n",
    "    <li>Циклична програмска структура\n",
    "     <ul>\n",
    "       <li><a href=\"06ciklicne_strukture.ipynb\">О цикличној структури</a></li>\n",
    "       <li><a href=\"07rad_sa_for_petljom.ipynb\">Рад са <strong>for</strong> петљом</a>\n",
    "           <ul>\n",
    "             <li><a href=\"08ciklusna_promenljiva_u_petlji.ipynb\">Циклусна променљива у петљи</a></li>\n",
    "             <li><a href=\"zadaci_sa_for_1.ipynb\">Задаци са for петљом - 1. део</a></li>\n",
    "             <li><a href=\"zadaci_sa_for_2.ipynb\">Задаци са for петљом - 2. део</a></li>\n",
    "             <li><a href=\"09primeri_resavanja_zadataka_sa_for_petljom.ipynb\">Примери решавања задатака са for петљом</a></li>\n",
    "             <li><a href=\"10for_petlja_vezbe.ipynb\">for петља - вежбе</a></li> \n",
    "           </ul>\n",
    "         </li>\n",
    "       <li><a href=\"11rad_sa_while_petljom.ipynb\">Рад са <strong>while</strong> петљом</a>\n",
    "          <ul>\n",
    "           <li><a href=\"12granicne_vrednosti_za_kraj_petlje.ipynb\">Граничне вредности за крај while петље</a></li>\n",
    "           <li><a href=\"13provera_unosa_podataka.ipynb\">Провера (валидација) уноса података</a></li>\n",
    "           <li><a href=\"zadaci_sa_while_1.ipynb\">Задаци са while петљом 1.део</a></li>\n",
    "           <li><a href=\"zadaci_sa_while_1_resenja.ipynb\">Задаци са while петљом 1.део - решења</a></li>\n",
    "           <li><a href=\"zadaci_sa_while_2.ipynb\">Задаци са while петљом 2.део</a></li>\n",
    "           <li><a href=\"zadaci_sa_while_2_resenja.ipynb\">Задаци са while петљом 2.део - решења</a></li>\n",
    "          </ul>\n",
    "      </li>\n",
    "     </ul>\n",
    "  </li>\n",
    "      <li> Функције у Пајтону\n",
    "          <ul>\n",
    "              <li><a href=\"14rad_sa_funkcijama.ipynb\">Рад са функцијама</a></li>\n",
    "              <li><a href=\"zadaci-sa-funkcijama-1deo.ipynb\">Задаци са функцијама 1. део</a></li>\n",
    "              <li><a href=\"15koriscenje_main_funkcije.ipynb\">Коришћење <strong>main</strong> функције</a></li>\n",
    "              <li><a href=\"16lokalne_promenljive_u_funkciji.ipynb\">Локалне променљиве у функцији</a></li>\n",
    "              <li><a href=\"zadaci_sa_funkcijama_2_deo.ipynb\">Задаци са функцијама 2. део</a></li>\n",
    "              <li><a href=\"17prosledjivanje_argumenata_funkciji.ipynb\">Прослеђивање аргумeната функцији</a></li>\n",
    "              <li><a href=\"18vracanje_rezultata_iz_funkcije.ipynb\">Враћање резултата из функције</a></li>\n",
    "              <li><a href=\"zadaci_sa_funkcijama_3_deo.ipynb\">Задаци са функцијама 3. део</a></li>\n",
    "              <li><a href=\"19vracanje_vise_vrednosti_iz_funkcije.ipynb\">Враћање више вредности из функције</a></li>\n",
    "              <li><a href=\"20Koriscenje_logickih_funkcija.ipynb\">Враћање логичких вредности из функције</a></li>\n",
    "          </ul>\n",
    "      </li>\n",
    "</ol>\n",
    "</div>\n"
   ]
  }
 ],
 "metadata": {
  "kernelspec": {
   "display_name": "Python 3",
   "language": "python",
   "name": "python3"
  },
  "language_info": {
   "codemirror_mode": {
    "name": "ipython",
    "version": 3
   },
   "file_extension": ".py",
   "mimetype": "text/x-python",
   "name": "python",
   "nbconvert_exporter": "python",
   "pygments_lexer": "ipython3",
   "version": "3.7.6"
  }
 },
 "nbformat": 4,
 "nbformat_minor": 2
}
