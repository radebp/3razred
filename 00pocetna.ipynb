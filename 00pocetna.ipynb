{
 "cells": [
  {
   "cell_type": "markdown",
   "metadata": {},
   "source": [
    "<p style=\"text-align:center;\">Раде Стојаковић, Гимназија \"20. октобар\" Бачка Паланка</p>"
   ]
  },
  {
   "cell_type": "markdown",
   "metadata": {},
   "source": [
    "<h2 style=\"background-color:lightblue; font-size:16pt; color:#0000ff; line-height:350%; text-align:center;\">Основе програмирања у Пајтону</h2>\n",
    "<h3 style=\"font-size:12pt; line-height:150%; text-align:center;\">Лекције за 3. разред гимназије</h3>"
   ]
  },
  {
   "cell_type": "markdown",
   "metadata": {},
   "source": [
    "<p style=\"background-color:#ccffcc; font-size:12pt; line-height:250%; \">Садржај</p>"
   ]
  },
  {
   "cell_type": "markdown",
   "metadata": {},
   "source": [
    "<div style=\"font-size:13pt; line-height:1.5em\">\n",
    "  <ol>\n",
    "   <li><a href=\"01rad_sa_stringovima.ipynb\" target=\"_self\">Рад са стринговима</a></li>\n",
    "   <li><a href=\"02promenljive_unos_ispis_podataka.ipynb\" target=\"_self\">Променљиве, унос и испис података</a></li>\n",
    "   <li>Разграната програмска структура\n",
    "     <ul>\n",
    "       <li><a href=\"03razgranata_programska_struktura.ipynb\" target=\"_self\">О разгранатој структури - if наредба</a></li>\n",
    "       <li><a href=\"04visestruko_grananje_if_else_naredba.ipynb\" target=\"_self\">Вишеструко гранање - if-else наредба</a>\n",
    "       <li><a href=\"05ugnezdena_razgranata_struktura_(if-elif-else).ipynb\" target=\"_self\">Угнеждена структура if-elif-else наредба</a></li>\n",
    "     </ul>\n",
    "  </li>\n",
    "    <li>Циклична програмска структура\n",
    "     <ul>\n",
    "       <li><a href=\"06ciklicne_strukture.ipynb\">О цикличној структури</a></li>\n",
    "       <li><a href=\"07rad_sa_for_petljom.ipynb\">Рад са <strong>for</strong> petljom</a></li>\n",
    "       <li><a href=\"08ciklusna_promenljiva_u_petlji.ipynb\">Циклусна променљива у петљи</a></li>\n",
    "       <li>Примери решавања задатака са for петљом - ускоро</li>\n",
    "       <li>for петља - вежбе - ускоро</li>  \n",
    "     </ul>\n",
    "  </li>   \n",
    "</ol>\n",
    "</div>\n"
   ]
  },
  {
   "cell_type": "code",
   "execution_count": null,
   "metadata": {},
   "outputs": [],
   "source": []
  }
 ],
 "metadata": {
  "kernelspec": {
   "display_name": "Python 3",
   "language": "python",
   "name": "python3"
  },
  "language_info": {
   "codemirror_mode": {
    "name": "ipython",
    "version": 3
   },
   "file_extension": ".py",
   "mimetype": "text/x-python",
   "name": "python",
   "nbconvert_exporter": "python",
   "pygments_lexer": "ipython3",
   "version": "3.7.5"
  }
 },
 "nbformat": 4,
 "nbformat_minor": 2
}
