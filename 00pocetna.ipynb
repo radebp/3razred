{
 "cells": [
  {
   "cell_type": "markdown",
   "metadata": {},
   "source": [
    "<p style=\"text-align:center;\">Раде Стојаковић, Гимназија \"20. октобар\" Бачка Паланка</p>"
   ]
  },
  {
   "cell_type": "markdown",
   "metadata": {},
   "source": [
    "<h2 style=\"background-color:lightblue; font-size:16pt; color:#0000ff; line-height:350%; text-align:center;\">Основе програмирања у Пајтону</h2>\n",
    "<h3 style=\"font-size:12pt; line-height:150%; text-align:center;\">Лекције за 3. разред гимназије</h3>"
   ]
  },
  {
   "cell_type": "markdown",
   "metadata": {},
   "source": [
    "<p style=\"background-color:#ccffcc; font-size:12pt; line-height:250%; \">Садржај</p>"
   ]
  },
  {
   "cell_type": "markdown",
   "metadata": {},
   "source": [
    "<div style=\"font-size:13pt; line-height:1.5em\">\n",
    "    <ol>\n",
    "        <li><a href=\"01rad_sa_stringovima.ipynb\" target=\"_self\">Рад са стринговима</a></li>\n",
    "        <li><a href=\"02promenljive_unos_ispis_podataka.ipynb\" target=\"_self\">Променљиве, унос и испис податакаа</a></li>\n",
    "        </ol>\n",
    "    </div>\n"
   ]
  }
 ],
 "metadata": {
  "kernelspec": {
   "display_name": "Python 3",
   "language": "python",
   "name": "python3"
  },
  "language_info": {
   "codemirror_mode": {
    "name": "ipython",
    "version": 3
   },
   "file_extension": ".py",
   "mimetype": "text/x-python",
   "name": "python",
   "nbconvert_exporter": "python",
   "pygments_lexer": "ipython3",
   "version": "3.7.4"
  }
 },
 "nbformat": 4,
 "nbformat_minor": 2
}
