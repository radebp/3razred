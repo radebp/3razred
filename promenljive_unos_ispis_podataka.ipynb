{
 "cells": [
  {
   "cell_type": "markdown",
   "metadata": {},
   "source": [
    "<p style=\"text-align:center;\">Раде Стојаковић, Гимназија \"20. октобар\" Бачка Паланка</p>"
   ]
  },
  {
   "cell_type": "markdown",
   "metadata": {},
   "source": [
    "[Почетна страница](pocetna.ipynb)"
   ]
  },
  {
   "cell_type": "markdown",
   "metadata": {},
   "source": [
    "У овој лекцији можете прочитати:  \n",
    "- [Променљиве у програму](#Променљиве-у-програму)\n",
    "- [Унос вредности у програм (функција `input`)](#Унос-вредности-у-програм)\n",
    "- [Исписивање вредности (функција `print`)](#Исписивање-вредности-(података))\n",
    "\n"
   ]
  },
  {
   "cell_type": "markdown",
   "metadata": {},
   "source": [
    "## Променљиве у програму"
   ]
  },
  {
   "cell_type": "markdown",
   "metadata": {},
   "source": [
    "***Променљива*** **је име које представља вредност смештену у меморији рачунара**"
   ]
  },
  {
   "cell_type": "markdown",
   "metadata": {},
   "source": [
    "У раду већине програма присутне су операције уношења података у програм, обраде тих података и исписивање резултата рада програма. Да би програм могао да обради одређене податке оне се морају унети у програм. Ти подаци се у току рада смештају у меморију рачунара и са њима изводе разне операције. \n",
    "\n",
    "Пошто програмер бира име којјим ће именовати променљиву, треба водити рачуна о следећем правилима:\n",
    "- име не сме почињати цифром\n",
    "- у имену променљиве не сме бити размак\n",
    "- у имену променљиве могу се користити сва мала и велика слова, цифре и доња црта. Остали карактери нису дозвољени\n",
    "\n",
    "Име променљиве треба да асоцира на намену променљиве у програму и тиме се постиже боља читљивост програма.\n",
    "Пошто је Пајтон програмски језик који различито тумачи мала и велика слова, променљиву се мора користити увек са тачно дефинисаним именом.<br>\n",
    "<br>\n",
    "Неформално (необавезујуће) правило је да се за имена променљивих користе мала слова."
   ]
  },
  {
   "cell_type": "markdown",
   "metadata": {},
   "source": [
    "Да бисмо креирали променљиву и доделили јој вредност користимо израз доделе (*assignment statement*)\n",
    "```Python\n",
    "promenljiva = izraz\n",
    "```\n",
    "знак једнакости `=` се назива **оператор доделе** и његово значење се разликује од значења знака једнакости у математици.  \n",
    "`promenljiva` представља име променљиве којoј се додељује одређена вредност  \n",
    "`izraz`- било који израз који даје одређену вредност"
   ]
  },
  {
   "cell_type": "markdown",
   "metadata": {},
   "source": [
    "Примери додељивања вредности променљивима:  \n",
    "```Python\n",
    "naziv = \"Gimnazija Bačka Palanka\"\n",
    "visina = 185\n",
    "prosek = 4.58   - # у запису реалних бројева користи се децимална тачка\n",
    "resenje = 3 + (8 - 2) / 4 *  3\n",
    "povrsina = r ** 2 * math.pi\n",
    "mesto = \"Bačka Palanka\"\n",
    "skola = naziv + ' ' + mesto\n",
    "```"
   ]
  },
  {
   "cell_type": "markdown",
   "metadata": {},
   "source": [
    "Име променљиве се мора налазити са леве стране знака доделе `=`, а израз чија вредност се додељује променљивој се мора налазити са десне стране знака доделе.  \n",
    "Обрнути редослед доводи до грешке.\n",
    "<img src=\"slike/greskapridodeli.jpg\" width=250px>"
   ]
  },
  {
   "cell_type": "code",
   "execution_count": 1,
   "metadata": {},
   "outputs": [
    {
     "ename": "NameError",
     "evalue": "name 'Visina' is not defined",
     "output_type": "error",
     "traceback": [
      "\u001b[1;31m---------------------------------------------------------------------------\u001b[0m",
      "\u001b[1;31mNameError\u001b[0m                                 Traceback (most recent call last)",
      "\u001b[1;32m<ipython-input-1-3b49942e9dc6>\u001b[0m in \u001b[0;36m<module>\u001b[1;34m\u001b[0m\n\u001b[0;32m      2\u001b[0m \u001b[1;31m# променљива Visina је различита променљива од променљиве visina\u001b[0m\u001b[1;33m\u001b[0m\u001b[1;33m\u001b[0m\u001b[1;33m\u001b[0m\u001b[0m\n\u001b[0;32m      3\u001b[0m \u001b[1;31m# покушај исписивања њене вредности доводи до грешке\u001b[0m\u001b[1;33m\u001b[0m\u001b[1;33m\u001b[0m\u001b[1;33m\u001b[0m\u001b[0m\n\u001b[1;32m----> 4\u001b[1;33m \u001b[0mprint\u001b[0m\u001b[1;33m(\u001b[0m\u001b[0mVisina\u001b[0m\u001b[1;33m)\u001b[0m\u001b[1;33m\u001b[0m\u001b[1;33m\u001b[0m\u001b[0m\n\u001b[0m",
      "\u001b[1;31mNameError\u001b[0m: name 'Visina' is not defined"
     ]
    }
   ],
   "source": [
    "visina = 187\n",
    "# променљива Visina је различита променљива од променљиве visina\n",
    "# покушај исписивања њене вредности доводи до грешке\n",
    "print(Visina) "
   ]
  },
  {
   "cell_type": "markdown",
   "metadata": {},
   "source": [
    "Променљивој се у току рада програма може мењати вредност. Пошто променљива може имати у једном тренутку само једну вредност, сваким новим додељивањем вредности, претходна вредност се брише и променљива \"памти\" новододељену вредност."
   ]
  },
  {
   "cell_type": "code",
   "execution_count": 2,
   "metadata": {},
   "outputs": [
    {
     "name": "stdout",
     "output_type": "stream",
     "text": [
      "Vrednost promenljive x je: 10\n",
      "Vrednost promenljive y je: 8\n"
     ]
    }
   ],
   "source": [
    "x = 20\n",
    "y = 10\n",
    "x = y\n",
    "y = x - 2\n",
    "print('Vrednost promenljive x je:', x)\n",
    "print('Vrednost promenljive y je:', y)"
   ]
  },
  {
   "cell_type": "markdown",
   "metadata": {},
   "source": [
    "## Унос вредности у програм"
   ]
  },
  {
   "cell_type": "markdown",
   "metadata": {},
   "source": [
    "Променљивој се вредност може поставити директним додељивањем у програму (углавном се користи код додељивања константних вредности) или коришћењем функције `input`.  \n",
    "У програмском језику Пајтон не постоји тип података за константне вредности већ се вредности које се не мењају додељују променљивима које се именују великим словима. \n",
    "```Python\n",
    "GRAVITACIJA = 9.81\n",
    "vreme = input('Unesi vreme: ')\n",
    "brzina = vreme * GRAVITACIJA  # боље решење него vreme * 9.81\n",
    "```"
   ]
  },
  {
   "cell_type": "markdown",
   "metadata": {},
   "source": [
    "Додељивање вредности произвољним уносом помоћу тастатуре обавља се коришћењем функције `input`.  \n",
    "Додељивање се може обавити на неколико начина:\n",
    "- коришћењем функције `input` без аргумената"
   ]
  },
  {
   "cell_type": "code",
   "execution_count": 1,
   "metadata": {},
   "outputs": [
    {
     "name": "stdout",
     "output_type": "stream",
     "text": [
      "Unesi svoje ime:\n",
      "Јелена\n",
      "Јелена\n"
     ]
    }
   ],
   "source": [
    "print('Unesi svoje ime:') # исписује се порука на екрану\n",
    "ime = input() # унесени податак се додељује променљивој ime\n",
    "print(ime) # исписује се вредност променљиве ime\n"
   ]
  },
  {
   "cell_type": "markdown",
   "metadata": {},
   "source": [
    "- краћи начин, коришћењем функције `input` која као аргумент има поруку која се исписује"
   ]
  },
  {
   "cell_type": "code",
   "execution_count": 21,
   "metadata": {},
   "outputs": [
    {
     "name": "stdout",
     "output_type": "stream",
     "text": [
      "Unesi prezimeMarković\n",
      "Marković\n"
     ]
    }
   ],
   "source": [
    "prezime = input('Unesi prezime')\n",
    "print(prezime)"
   ]
  },
  {
   "cell_type": "markdown",
   "metadata": {},
   "source": [
    "У горњем примеру унесени податак се приказује непосредно иза поруке. Да би се обезбедила боља читљивост препоручује се коришћење размака после последњег карактера у поруци:\n",
    "<img src=\"slike/input_razmak.jpg\" width=500px>"
   ]
  },
  {
   "cell_type": "markdown",
   "metadata": {},
   "source": [
    "<div style=\"color:#cc0000; background-color:#ccddff; line-height:2em;\"> <strong>Вредности које се додељују променљивој помоћу <span style=\"color:#009900;\">input </span> функције су типа <span style=\"color:#009900;\">string</span> и о томе се мора водити рачуна приликом операција које се изводе са променљивом.</strong></div>"
   ]
  },
  {
   "cell_type": "code",
   "execution_count": 2,
   "metadata": {},
   "outputs": [
    {
     "name": "stdout",
     "output_type": "stream",
     "text": [
      "Unesi udaljenost od Bačke Palanke do Čelareva: 15\n",
      "<class 'str'>\n",
      "Unesi udaljenost od Čelareva do Novog Sada: 27\n",
      "Od Bačke Palanke do Novog Sada ima 1527 km.\n"
     ]
    }
   ],
   "source": [
    "do_celareva = input('Unesi udaljenost od Bačke Palanke do Čelareva: ')\n",
    "print(type(do_celareva)) # исписује се тип променљиве\n",
    "celarevo_ns = input('Unesi udaljenost od Čelareva do Novog Sada: ')\n",
    "ukupno = do_celareva + celarevo_ns\n",
    "print('Od Bačke Palanke do Novog Sada ima',ukupno,'km.')"
   ]
  },
  {
   "cell_type": "markdown",
   "metadata": {},
   "source": [
    "Ако желимо у програму са вредношћу променљиве која је типа `string` изводити аритметичке операције морамо је превести у тип `int` или `float`.  \n",
    "То можемо урадити на неколико начина:"
   ]
  },
  {
   "cell_type": "code",
   "execution_count": 3,
   "metadata": {},
   "outputs": [
    {
     "name": "stdout",
     "output_type": "stream",
     "text": [
      "Unesi cenu 1. proizvoda: 155.55\n",
      "Pre promene cena1 je tipa: <class 'str'>\n",
      "Posle promene cena1 je tipa: <class 'float'>\n"
     ]
    }
   ],
   "source": [
    "cena1 = input('Unesi cenu 1. proizvoda: ')\n",
    "print('Pre promene cena1 je tipa:',type(cena1))\n",
    "\n",
    "cena1 = float(cena1)\n",
    "\n",
    "print('Posle promene cena1 je tipa:',type(cena1))\n"
   ]
  },
  {
   "cell_type": "markdown",
   "metadata": {},
   "source": [
    "Краћи запис помоћу кога постижемо исти резултат је:"
   ]
  },
  {
   "cell_type": "code",
   "execution_count": 4,
   "metadata": {},
   "outputs": [
    {
     "name": "stdout",
     "output_type": "stream",
     "text": [
      "Unesi cenu 2. proizvoda: 157.56\n",
      "Nakon unošenja cena2 je tipa: <class 'float'>\n"
     ]
    }
   ],
   "source": [
    "cena2 = float(input('Unesi cenu 2. proizvoda: '))\n",
    "\n",
    "print('Nakon unošenja cena2 je tipa:',type(cena2))"
   ]
  },
  {
   "cell_type": "markdown",
   "metadata": {},
   "source": [
    "### Уношење више вредности у једној линији"
   ]
  },
  {
   "cell_type": "markdown",
   "metadata": {},
   "source": [
    "Ако треба да унесемо више вредности у програм тада можемо за сваку променљиву уносити вредност у посебној `input` функцији или можемо за неколико променљивих доделити вредности користећи једну `input` функцију:"
   ]
  },
  {
   "cell_type": "code",
   "execution_count": 5,
   "metadata": {},
   "outputs": [
    {
     "name": "stdout",
     "output_type": "stream",
     "text": [
      "Unesi ime i prezime:Јована, Јовић\n",
      "Ime učenika: Јована\n",
      "Prezime učenika:  Јовић\n"
     ]
    }
   ],
   "source": [
    "ime, prezime = input('Unesi ime i prezime:') .split(',') # приликом уношења зарезом одвајамо унесене податке\n",
    "print('Ime učenika:',ime)\n",
    "print('Prezime učenika:',prezime)"
   ]
  },
  {
   "cell_type": "code",
   "execution_count": 6,
   "metadata": {},
   "outputs": [
    {
     "name": "stdout",
     "output_type": "stream",
     "text": [
      "Unesi razred i odeljenje:III 3\n",
      "Učenik ide u odeljenje : III 3\n"
     ]
    }
   ],
   "source": [
    "razred, odeljenje = input('Unesi razred i odeljenje:') .split(' ') # приликом уношења размаком одвајамо унесене податке\n",
    "print('Učenik ide u odeljenje :',razred,odeljenje)"
   ]
  },
  {
   "cell_type": "markdown",
   "metadata": {},
   "source": [
    "Горњи примери се користе ако се уносе подаци који су типа string. Ако желимо унети променљиве које су типа `int` или `float` тада користимо следећи пример (`map`) функција:  "
   ]
  },
  {
   "cell_type": "code",
   "execution_count": 7,
   "metadata": {},
   "outputs": [
    {
     "name": "stdout",
     "output_type": "stream",
     "text": [
      "Unesi tri ocene: 3,4,4\n",
      "Prva ocena: 3\n",
      "Druga ocena: 4\n",
      "Treća ocena: 4\n",
      "Srednja ocena: 3.6666666666666665\n"
     ]
    }
   ],
   "source": [
    "ocena1, ocena2, ocena3 = map(int, input('Unesi tri ocene: ').split(','))\n",
    "print('Prva ocena:',ocena1)\n",
    "print('Druga ocena:',ocena2)\n",
    "print('Treća ocena:',ocena3)\n",
    "print('Srednja ocena:', (ocena1 + ocena2 + ocena3)/3)"
   ]
  },
  {
   "cell_type": "markdown",
   "metadata": {},
   "source": [
    "### Исписивање вредности (података)"
   ]
  },
  {
   "cell_type": "markdown",
   "metadata": {},
   "source": [
    "Као што смо могли видети у неколико претходних примера, за исписивање вредности на екран користи се функција `print`. Као и већина других функције и она се може користити на разне начине, у зависности шта и како желимо нешто да испишемо.\n"
   ]
  },
  {
   "cell_type": "code",
   "execution_count": 8,
   "metadata": {},
   "outputs": [
    {
     "name": "stdout",
     "output_type": "stream",
     "text": [
      "Unesi tri ocene: 4,5,5\n",
      "\n",
      "Ocene učenika\n",
      "Prva ocena: 4\n",
      "Druga ocena: 5 Treća ocena: 5\n",
      "Srednja ocena: 4.666666666666667\n"
     ]
    }
   ],
   "source": [
    "ocena1, ocena2, ocena3 = map(int, input('Unesi tri ocene: ').split(','))\n",
    "print() # функција нема аргумената - исписује се празан ред\n",
    "print('Ocene učenika') # kao argument je jedan string - ispisuje se na ekranu\n",
    "print('Prva ocena:',ocena1) # исписује се стринг и после њега вредност променљиве ocena1\n",
    "print('Druga ocena:',ocena2, 'Treća ocena:',ocena3) # исписују се комбинације стрингова и променљивих, одвојени зарезима \n",
    "\n",
    "#исписује се стринг и израз који се израчунава и на његовом месту се исписује резултат\n",
    "print('Srednja ocena:', (ocena1 + ocena2 + ocena3)/3) "
   ]
  },
  {
   "cell_type": "markdown",
   "metadata": {},
   "source": [
    "Осим коришћења стрингова и променљивих који су одвојени зарезима често се користи и начин у коме се користи функција `format`."
   ]
  },
  {
   "cell_type": "code",
   "execution_count": 9,
   "metadata": {},
   "outputs": [
    {
     "name": "stdout",
     "output_type": "stream",
     "text": [
      "Unesi naziv proizvoda: hleb\n",
      "Unesi cenu proizvoda: 50\n",
      "Unesi količinu proizvoda: 2\n",
      "Kupljeno: hleb, 2.0 komada po ceni od 50.0 dinara. Ukupno: 100.0 dinara.\n"
     ]
    }
   ],
   "source": [
    "naziv = input('Unesi naziv proizvoda: ')\n",
    "cena = float(input('Unesi cenu proizvoda: '))\n",
    "kol = float(input('Unesi količinu proizvoda: '))\n",
    "print('Kupljeno: {}, {} komada po ceni od {} dinara. Ukupno: {} dinara.' .format(naziv, kol, cena, cena * kol))"
   ]
  },
  {
   "cell_type": "markdown",
   "metadata": {},
   "source": [
    "Трећи начин коришћења `print` функције у употреби је од верзије 3.6:    "
   ]
  },
  {
   "cell_type": "code",
   "execution_count": 11,
   "metadata": {},
   "outputs": [
    {
     "name": "stdout",
     "output_type": "stream",
     "text": [
      "Unesi naziv proizvoda: mleko\n",
      "Unesi cenu proizvoda: 85.55\n",
      "Unesi količinu proizvoda: 3\n",
      "Kupljeno: mleko, 3.0 komada po ceni od 85.55 dinara. Ukupno: 256.65 dinara.\n"
     ]
    }
   ],
   "source": [
    "naziv = input('Unesi naziv proizvoda: ')\n",
    "cena = float(input('Unesi cenu proizvoda: '))\n",
    "kol = float(input('Unesi količinu proizvoda: '))\n",
    "print(f'Kupljeno: {naziv}, {kol} komada po ceni od {cena} dinara. Ukupno: {cena * kol} dinara.')"
   ]
  },
  {
   "cell_type": "markdown",
   "metadata": {},
   "source": [
    "Вредност која се исписује могуће је додатно обликовати - одредити на који начин ће се приказивати. Уколико желимо исписати вредност реалног броја са две децимале тада можемо писати:"
   ]
  },
  {
   "cell_type": "code",
   "execution_count": 12,
   "metadata": {},
   "outputs": [
    {
     "name": "stdout",
     "output_type": "stream",
     "text": [
      "Unesi dužine dve katete: 5 7\n",
      "Dužina hipotenuze je 8.60\n"
     ]
    }
   ],
   "source": [
    "from math import sqrt\n",
    "a, b = map(int, input('Unesi dužine dve katete: ').split(' '))\n",
    "c = sqrt(a ** 2 + b ** 2)\n",
    "print(f'Dužina hipotenuze je {c:.2f}')"
   ]
  },
  {
   "cell_type": "markdown",
   "metadata": {},
   "source": [
    "### Специјални карактери (escape characters)"
   ]
  },
  {
   "cell_type": "markdown",
   "metadata": {},
   "source": [
    "За додатно подешавање исписа могу се користити и тзв. ***специјални карактери*** (`escape characters`). Они се наводе унутар стринга који се исписује, а њима претходи коса линија. Када се исписује стринг у оквиру кога се налази специјални карактер, он се тумачи као посебна команда (наредба) која је угнеждена у стринг.\n",
    "На пример `\\n` представља наредбу за прелазак у нови ред. Део стринга који се налази иза тог специјалног карактера исписује се у новом реду.  "
   ]
  },
  {
   "cell_type": "code",
   "execution_count": 13,
   "metadata": {},
   "outputs": [
    {
     "name": "stdout",
     "output_type": "stream",
     "text": [
      "Prvi red\n",
      "Drugi red\n",
      "Treći red\n"
     ]
    }
   ],
   "source": [
    "print('Prvi red\\nDrugi red\\nTreći red')"
   ]
  },
  {
   "cell_type": "markdown",
   "metadata": {},
   "source": [
    "У Пајтону постоји неколико специјалних карактера. Неки од њих су приказани у следећој табели"
   ]
  },
  {
   "cell_type": "markdown",
   "metadata": {},
   "source": [
    "<img src=\"slike/specijalni_karakteri.jpg\" width:550px>"
   ]
  },
  {
   "cell_type": "markdown",
   "metadata": {},
   "source": [
    "Специјални карактер `\\t` представља тзв. табулатор. Вредност која се налази после њега ће бити исписана за једо табулаторско место (најчешће 8 места) што је приказано у следећем примеру:"
   ]
  },
  {
   "cell_type": "code",
   "execution_count": 14,
   "metadata": {},
   "outputs": [
    {
     "name": "stdout",
     "output_type": "stream",
     "text": [
      "Pon\tUto\tSre\tČet\tPet\n",
      "Srp\tEngl\tMuz\tIst\tFiz\n"
     ]
    }
   ],
   "source": [
    "print('Pon\\tUto\\tSre\\tČet\\tPet')\n",
    "print('Srp\\tEngl\\tMuz\\tIst\\tFiz')"
   ]
  },
  {
   "cell_type": "markdown",
   "metadata": {},
   "source": [
    "Карактери `\\'`и `\\\" ` се користе да би се унутар стринга на произвољном месту или на више места могли наводити апострофи или знакови навода без обзира на знак са којим почиње и завршава исписивање стринга."
   ]
  },
  {
   "cell_type": "code",
   "execution_count": 15,
   "metadata": {},
   "outputs": [
    {
     "name": "stdout",
     "output_type": "stream",
     "text": [
      "Omiljene knjige su \"Ime ruže\", \"Ana Karenjina\" i \"Lovac na zmajeve\". \n"
     ]
    }
   ],
   "source": [
    "print(\"Omiljene knjige su \\\"Ime ruže\\\", \\\"Ana Karenjina\\\" i \\\"Lovac na zmajeve\\\". \")"
   ]
  },
  {
   "cell_type": "markdown",
   "metadata": {},
   "source": [
    "Карактер `\\\\` користи се за исписивање косе линије пошто она, када се наводи као један карактер, има посебну намену. Пример коришћења овог специјалног знака можемо видети у следећем примеру:"
   ]
  },
  {
   "cell_type": "code",
   "execution_count": 19,
   "metadata": {},
   "outputs": [
    {
     "name": "stdout",
     "output_type": "stream",
     "text": [
      "Unesi naziv diska, fascike i dokumenta: D,3 razred,stringovi.txt\n",
      "Putanja je: D:\\3 razred\\stringovi.txt\n"
     ]
    }
   ],
   "source": [
    "disk, folder, fajl = input('Unesi naziv diska, fascike i dokumenta: ').split(',')\n",
    "print(f'Putanja je: {disk}:\\\\{folder}\\\\{fajl}')"
   ]
  },
  {
   "cell_type": "markdown",
   "metadata": {},
   "source": [
    "#### Обликовање броја као процента"
   ]
  },
  {
   "cell_type": "markdown",
   "metadata": {},
   "source": [
    "Уколико треба да прикажемо одређен број у облику процента можемо користити разне начине. У следећем примеру користимо симбол `f` за обликовање реалног броја и додајемо знак за проценат унутар стринга:"
   ]
  },
  {
   "cell_type": "code",
   "execution_count": 20,
   "metadata": {},
   "outputs": [
    {
     "name": "stdout",
     "output_type": "stream",
     "text": [
      "Unesi broj odigranih utakmica: 18\n",
      "Unesi broj pobeda: 12\n",
      "Ukupno je ostvareno 66.67% pobeda i 33.33% poraza.\n"
     ]
    }
   ],
   "source": [
    "ukupno = int(input('Unesi broj odigranih utakmica: '))\n",
    "pobeda = int(input('Unesi broj pobeda: '))\n",
    "print(f'Ukupno je ostvareno {pobeda / ukupno:.2%} pobeda i {(ukupno - pobeda) / ukupno:.2%} poraza.')"
   ]
  }
 ],
 "metadata": {
  "kernelspec": {
   "display_name": "Python 3",
   "language": "python",
   "name": "python3"
  },
  "language_info": {
   "codemirror_mode": {
    "name": "ipython",
    "version": 3
   },
   "file_extension": ".py",
   "mimetype": "text/x-python",
   "name": "python",
   "nbconvert_exporter": "python",
   "pygments_lexer": "ipython3",
   "version": "3.7.4"
  }
 },
 "nbformat": 4,
 "nbformat_minor": 2
}
