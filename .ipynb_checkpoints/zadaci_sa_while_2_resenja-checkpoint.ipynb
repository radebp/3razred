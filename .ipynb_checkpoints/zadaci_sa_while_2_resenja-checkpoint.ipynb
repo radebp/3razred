{
 "cells": [
  {
   "cell_type": "markdown",
   "metadata": {
    "deletable": false,
    "editable": false
   },
   "source": [
    "<p style=\"text-align:center;\">Раде Стојаковић, Гимназија \"20. октобар\" Бачка Паланка</p>"
   ]
  },
  {
   "cell_type": "markdown",
   "metadata": {
    "deletable": false,
    "editable": false
   },
   "source": [
    "<div style=\"height:50px; background-color:#cceeff; padding:5px; border-radius:5px\">\n",
    "\n",
    "### <center>  Задаци са **`while`** петљом - 2. део </center>\n",
    "</div>"
   ]
  },
  {
   "cell_type": "markdown",
   "metadata": {
    "deletable": false,
    "editable": false
   },
   "source": [
    "1.\tУноси се удаљеност до летовалишта у км. Уноси се колико смо км прешли у сваком дану. Исписује се колико нам још преостаје км до доласка на одредиште. На крају исписати да смо стигли и колико нам је дана требало. \n",
    "\n",
    "<img src=\"slike/whilezadacislike/2deo/while2deo - 1.png\" width=300px align=\"left\" style=\"margin-left:120px\">\n",
    "<img src=\"slike/whilezadacislike/2deo/while2deo - 1-2.png\" width=300px align=\"left\" style=\"margin-left:120px\">"
   ]
  },
  {
   "cell_type": "code",
   "execution_count": null,
   "metadata": {},
   "outputs": [],
   "source": [
    "# ovde pišete kod za 1. zadatak\n",
    "udaljenost = int(input('Unesi udaljenost do odredišta: '))\n",
    "danas = int(input('Koliko ste prešli danas: '))\n",
    "presao = danas\n",
    "dan = 1\n",
    "while presao < udaljenost:\n",
    "    print(f'Preostalo vam je {udaljenost - presao}km.')\n",
    "    danas = int(input('Koliko ste prešli danas: '))\n",
    "    presao += danas\n",
    "    dan += 1\n",
    "print(f'Stigli ste, trebalo vam je {dan} dana.')    "
   ]
  },
  {
   "cell_type": "markdown",
   "metadata": {
    "deletable": false,
    "editable": false
   },
   "source": [
    "2.\tУноси се цена и количина производа и рачуна укупни износ за плаћање. Крај уноса се обезбеђује уношењем негативне цене.\n",
    "\n",
    "<img src=\"slike/whilezadacislike/2deo/while2deo - 2.png\" width=300px  align=\"left\" style=\"margin-left:120px\">\n",
    "<img src=\"slike/whilezadacislike/2deo/while2deo - 2-2.png\" width=300px align=\"left\" style=\"margin-left:120px\">"
   ]
  },
  {
   "cell_type": "code",
   "execution_count": null,
   "metadata": {},
   "outputs": [],
   "source": [
    "# ovde pišete kod za 2. zadatak\n",
    "cena = float(input('Unesi cenu ili -1 za kraj: '))\n",
    "ukupno = 0\n",
    "while cena >= 0:\n",
    "    kol = float(input('Unesi količinu: '))\n",
    "    ukupno = ukupno + cena * kol\n",
    "    print(f'Trenutni iznos: {ukupno} dinara.')\n",
    "    cena = float(input('Unesi cenu ili -1 za kraj: '))\n",
    "print(f'\\nUkupno za plaćanje: {ukupno} dinara')    "
   ]
  },
  {
   "cell_type": "markdown",
   "metadata": {
    "deletable": false,
    "editable": false
   },
   "source": [
    "3.\tИзрачунати просечну температуру за непознат број дана. Престанак уноса се обезбеђује уношењем празног стринга (само притиском на Ентер).\n",
    "\n",
    "<img src=\"slike/whilezadacislike/2deo/while2deo - 3.png\" width=300px  align=\"left\"  style=\"margin-left:120px\">\n",
    "<img src=\"slike/whilezadacislike/2deo/while2deo - 3-2.png\" width=350px align=\"left\" style=\"margin-left:120px\">"
   ]
  },
  {
   "cell_type": "code",
   "execution_count": null,
   "metadata": {},
   "outputs": [],
   "source": [
    "# ovde pišete kod za 3. zadatak\n",
    "zbir = 0\n",
    "dan = 0\n",
    "temp = input(f'Unesi temperaturu za 1. dan (enter za kraj): ')\n",
    "while temp:\n",
    "    temp = int(temp)\n",
    "    zbir += temp\n",
    "    dan += 1\n",
    "    temp = input(f'Unesi temperaturu za {dan+1}. dan (enter za kraj): ')\n",
    "if dan == 0:\n",
    "    print('Nisu uneseni podaci.')\n",
    "else:\n",
    "    prosek = zbir / dan\n",
    "    print(f'\\nProsečna temperatura iznosi {prosek:.2f} stepeni.')    "
   ]
  },
  {
   "cell_type": "markdown",
   "metadata": {
    "deletable": false,
    "editable": false
   },
   "source": [
    "4.\tИзрачунати просечну оцене за ученика. Крај петље се обезбеђује уношењем 0 (нула) за оцену. Ако ученик има 1 тада је просек 1.00.\n",
    "\n",
    "<img src=\"slike/whilezadacislike/2deo/while2deo-4-1.png\" width=280px align=\"left\">\n",
    "<img src=\"slike/whilezadacislike/2deo/while2deo-4-2.png\" width=280px align=\"left\" style=\"margin-left:50px\">\n",
    "<img src=\"slike/whilezadacislike/2deo/while2deo-4-3.png\" width=280px align=\"left\" style=\"margin-left:50px\">"
   ]
  },
  {
   "cell_type": "code",
   "execution_count": null,
   "metadata": {},
   "outputs": [],
   "source": [
    "# ovde pišete kod za 4. zadatak\n",
    "zbir = 0\n",
    "brOcena = 0\n",
    "brJedinica = 0\n",
    "ocena = int(input('Unesi ocenu ili 0 za kraj: '))\n",
    "while ocena > 0:\n",
    "    if ocena == 1:\n",
    "        brJedinica += 1\n",
    "    else:\n",
    "        zbir += ocena\n",
    "        brOcena += 1\n",
    "    ocena = int(input('Unesi ocenu ili 0 za kraj: '))\n",
    "if brOcena == 0:\n",
    "    print('Niste uneli ocene.')\n",
    "elif brJedinica > 0:\n",
    "    print('\\nProsečna ocena: 1.00')\n",
    "else:\n",
    "    print(f'\\nProsečna ocena:{zbir / brOcena: .2f}')"
   ]
  },
  {
   "cell_type": "markdown",
   "metadata": {
    "deletable": false,
    "editable": false
   },
   "source": [
    "5.\tИсписати стање на рачуну ако се уноси уплате и исплата (уплата је позитиван број, а исплата негативан број). Крај петље ће бити притиском на Enter (празан податак)\n",
    "\n",
    "<img src=\"slike/whilezadacislike/2deo/while2deo-5.png\" width=300px align=\"left\" style=\"margin-left:120px\">"
   ]
  },
  {
   "cell_type": "code",
   "execution_count": null,
   "metadata": {},
   "outputs": [],
   "source": [
    "# ovde pišete kod za 5. zadatak\n",
    "stanje = 0\n",
    "promena = input('Unesite promenu na računu (enter za kraj): ')\n",
    "while promena:\n",
    "    promena = int(promena)\n",
    "    stanje += promena\n",
    "    print(f'Trenutno stanje: {stanje} dinara.')\n",
    "    promena = input('Unesite promenu na računu (enter za kraj): ')\n",
    "print(f'\\nStanje na računu iznosi: {stanje} dinara')"
   ]
  },
  {
   "cell_type": "markdown",
   "metadata": {
    "deletable": false,
    "editable": false
   },
   "source": [
    "6.\tУнети произвољан број и исписати збир цифара унесеног броја.\n",
    "\n",
    "<img src=\"slike/whilezadacislike/2deo/while2deo-6.png\" width=300px align=\"left\" style=\"margin-left:120px\">\n",
    "<img src=\"slike/whilezadacislike/2deo/while2deo-6-2.png\" width=300px align=\"left\" style=\"margin-left:120px\">"
   ]
  },
  {
   "cell_type": "code",
   "execution_count": null,
   "metadata": {},
   "outputs": [],
   "source": [
    "# ovde pišete kod za 6. zadatak\n",
    "pocetniBroj = int(input('Unesi broj: '))\n",
    "broj = pocetniBroj\n",
    "zbir = 0\n",
    "while broj > 0:\n",
    "    cifra = broj % 10\n",
    "    zbir += cifra\n",
    "    broj //= 10\n",
    "print(f'Zbir cifara broja {pocetniBroj} je {zbir}')   "
   ]
  },
  {
   "cell_type": "markdown",
   "metadata": {
    "deletable": false,
    "editable": false
   },
   "source": [
    "7.\tНасумично се бира број између 1 и 100. Погађати који је број изабран док се не погоди број. Исписати из ког покушаја је погођен број.\n",
    "\n",
    "<img src=\"slike/whilezadacislike/2deo/while2deo-7.png\" width=400px align=\"left\" style=\"margin-left:120px\">"
   ]
  },
  {
   "cell_type": "code",
   "execution_count": null,
   "metadata": {},
   "outputs": [],
   "source": [
    "# ovde pišete kod za 7. zadatak\n",
    "import random\n",
    "print('Program je zamislio jedan broj između 1 i 100.')\n",
    "print('Probajte da ga pogodite')\n",
    "broj = random.randint(1,100)\n",
    "mojBroj = int(input('Unesite vaš broj: '))\n",
    "pokusaj = 1\n",
    "while mojBroj != broj:\n",
    "    if mojBroj < broj:\n",
    "        print('Probajte sa većim brojem: ')\n",
    "    else:\n",
    "        print('Probajte sa manjim brojem: ')\n",
    "    mojBroj = int(input('Unesite vaš broj: '))\n",
    "    pokusaj  += 1\n",
    "print(f'Bravo! Pogodili ste iz {pokusaj} pokušaja.')    "
   ]
  },
  {
   "cell_type": "markdown",
   "metadata": {
    "deletable": false,
    "editable": false
   },
   "source": [
    "8.\tНасумично се бирају два броја у интервалу између 10 и 100. Исписивати збир два броја и број тачних и погрешних одговора као и % успешности. Крај сабирања обезбедити притиском на ентер.\n",
    "\n",
    "<img src=\"slike/whilezadacislike/2deo/while2deo-8.png\" width=250px align=\"left\" style=\"margin-left:120px\">\n",
    "<img src=\"slike/whilezadacislike/2deo/while2deo-8-2.png\" width=300px align=\"left\" style=\"margin-left:120px\">"
   ]
  },
  {
   "cell_type": "code",
   "execution_count": null,
   "metadata": {},
   "outputs": [],
   "source": [
    "# ovde pišete kod za 8. zadatak\n",
    "import random\n",
    "brTacnih = 0\n",
    "brNetacnih = 0\n",
    "br1 = random.randint(10,100)\n",
    "br2 = random.randint(10,100)\n",
    "odgovor = input(f'{br1} + {br2} = ')\n",
    "while odgovor:\n",
    "    odgovor = int(odgovor)\n",
    "    if odgovor == br1 + br2:\n",
    "        print('Tačno.')\n",
    "        brTacnih += 1\n",
    "    else:\n",
    "        print('Netačno.')\n",
    "        brNetacnih += 1\n",
    "    br1 = random.randint(10,100)\n",
    "    br2 = random.randint(10,100)\n",
    "    odgovor = input(f'{br1} + {br2} = ')\n",
    "if brTacnih == 0 and brNetacnih == 0:\n",
    "    print('Ne želite da se igrate?')\n",
    "else:\n",
    "    print(f'Broj tačnih odgovora: {brTacnih}, a netačnih: {brNetacnih}')\n",
    "    print(f'Procenat uspešnosti: {brTacnih/(brTacnih+brNetacnih):.2%}')"
   ]
  },
  {
   "cell_type": "markdown",
   "metadata": {
    "deletable": false,
    "editable": false
   },
   "source": [
    "9.\tУноси се оцене ученика док се не унесе празан стринг. Исписати просечну оцену. Не дозволити унос погрешне оцене (мање од 1 и веће од 5). Исписати просечну оцену.\n",
    "\n",
    "Могући резултати рада програма:\n",
    "\n",
    "<img src=\"slike/whilezadacislike/2deo/while2deo-9.png\" width=250px align=\"left\" style=\"margin-left:60px\">\n",
    "<img src=\"slike/whilezadacislike/2deo/while2deo-9-2.png\" width=250px align=\"left\" style=\"margin-left:50px\">\n",
    "<img src=\"slike/whilezadacislike/2deo/while2deo-9-3.png\" width=250px align=\"left\" style=\"margin-left:50px\">\n",
    "<img src=\"slike/whilezadacislike/2deo/while2deo-9-4.png\" width=350px align=\"left\" style=\"margin-left:80px\">"
   ]
  },
  {
   "cell_type": "code",
   "execution_count": null,
   "metadata": {},
   "outputs": [],
   "source": [
    "# ovde pišete kod za 9. zadatak\n",
    "zbir = 0\n",
    "brJedinica = 0\n",
    "brOcena = 0\n",
    "ocena = input('Unesite 1. ocenu: ')\n",
    "while ocena:\n",
    "    ocena = int(ocena)\n",
    "    while ocena < 1 or ocena > 5:\n",
    "        print('!!!GREŠKA - pogrešna ocena!!!')\n",
    "        ocena = int(input('Unesite ispravnu ocenu: '))\n",
    "    if ocena == 1:\n",
    "        brJedninica += 1\n",
    "    else:\n",
    "        zbir += ocena\n",
    "    brOcena += 1\n",
    "    ocena = input(f'Unesite {brOcena + 1}. ocenu: ')\n",
    "if brOcena == 0:\n",
    "    print('Niste uneli ocene.')\n",
    "elif brJedinica > 0:\n",
    "    print('Prosečna ocena: 1.00')\n",
    "else:\n",
    "    print(f'Prosečna ocena: {zbir/brOcena:.2f}')"
   ]
  }
 ],
 "metadata": {
  "kernelspec": {
   "display_name": "Python 3",
   "language": "python",
   "name": "python3"
  },
  "language_info": {
   "codemirror_mode": {
    "name": "ipython",
    "version": 3
   },
   "file_extension": ".py",
   "mimetype": "text/x-python",
   "name": "python",
   "nbconvert_exporter": "python",
   "pygments_lexer": "ipython3",
   "version": "3.7.5"
  }
 },
 "nbformat": 4,
 "nbformat_minor": 2
}
