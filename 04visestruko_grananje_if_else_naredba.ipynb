{
 "cells": [
  {
   "cell_type": "markdown",
   "metadata": {},
   "source": [
    "<p style=\"text-align:center;\">Раде Стојаковић, Гимназија \"20. октобар\" Бачка Паланка</p>"
   ]
  },
  {
   "cell_type": "markdown",
   "metadata": {},
   "source": [
    "[Почетна страница](00pocetna.ipynb)"
   ]
  },
  {
   "cell_type": "markdown",
   "metadata": {},
   "source": [
    "**У овој лекцији можете прочитати:**  \n",
    "- [о вишестуком гранању (if-else)](#Вишеструко-гранање-(if-else-наредба))\n",
    "- [o правилном увлачењу наредби](#Правила-увлачења-наредби-код-вишеструког-гранања)\n",
    "- [o правилном увлачењу наредби](#Правила-увлачења-наредби-код-вишеструког-гранања)\n",
    "- [Задаци за вежбу](#Задаци-за-вежбу)"
   ]
  },
  {
   "cell_type": "markdown",
   "metadata": {},
   "source": [
    "## Вишеструко гранање (if-else наредба)"
   ]
  },
  {
   "cell_type": "markdown",
   "metadata": {},
   "source": [
    "У претходним примерима наводили смо примере у којима су се једна или више наредби извршавале ако је логички услов у `if` наредби тачан. Након тога настављало се са наредбама након `if` наредбе. Исто тако, ако услов није био тачан настављало се са наредбама након `if` наредбе. Дакле није се радило ништа ако логички услов у `if` наредби није био тачан.\n",
    "\n",
    "Често се у разгранатој структури наводе и наредбе које ће се извршавати ако логички услов у `if` нареби није тачан.\n",
    "Таквим примером би богли проширити наш претходни пример са исписивањем поруке да учeник није пунолетан ако логички услов у `if` наредби није тачан (старост није већа од 17).\n",
    "\n",
    "Графички приказ `if` наредбе у том случају би изгледао као на слици:\n",
    "\n",
    "<img src=\"slike/visestruko_grananje.jpg\" width=400px>"
   ]
  },
  {
   "cell_type": "markdown",
   "metadata": {},
   "source": [
    "У горњем примеру видимо да се у програму може извршавати једна од две наведене `print` функције - или ће се исписати да је ученик пунолетан или да је ученик малолетан. Након исписивања једне од порука програм наставља са извршавањем са првом следећом наредбом после `if` наредбе.\n",
    "\n",
    "Програм са вишеструким гранањем би могао изгледати овако:\n"
   ]
  },
  {
   "cell_type": "code",
   "execution_count": null,
   "metadata": {},
   "outputs": [],
   "source": [
    "from datetime import datetime\n",
    "\n",
    "# naredbe pre if naredbe\n",
    "god_rodjenja = int(input('Unesite godinu rođenja učenika: '))\n",
    "\n",
    "starost = datetime.now().year - god_rodjenja\n",
    "\n",
    "# postavljanje i proveravanje logičkog uslova\n",
    "if starost > 17:\n",
    "    print('Učenik je punoletan.')\n",
    "else:\n",
    "    print('Učenik je maloletan')\n",
    "\n",
    "# naredba posle if naredbe\n",
    "print('Kraj programa')"
   ]
  },
  {
   "cell_type": "markdown",
   "metadata": {},
   "source": [
    "Из приказаног програма можемо видети да смо `if` наредбу проширили са делом `else` **у коме се наводи једна или више наредби које ће се извршавати <span style=\"color:red\">ако логички услов није тачан</span>**.\n",
    "\n",
    "Општи облик `if` наредбе са вишеструким гранањем је следећи:\n",
    "\n",
    "```Python\n",
    "if logički_uslov:\n",
    "    naredba\n",
    "else:\n",
    "    naredba\n",
    "```"
   ]
  },
  {
   "cell_type": "markdown",
   "metadata": {},
   "source": [
    "**Ако је логички услов у if наредби <span style=\"color:red\">тачан</span>** тада се извршава део наредби који је наведен након услова, а прескаче се (не извршава се) група наредби која је наведена после `else` дела"
   ]
  },
  {
   "cell_type": "markdown",
   "metadata": {},
   "source": [
    "<img src=\"slike/visestruko-if.jpg\" width=400px>"
   ]
  },
  {
   "cell_type": "markdown",
   "metadata": {},
   "source": [
    "**Ако логички услов у if наредби <span style=\"color:red\"> није тачан</span>** тада се извршава део наредби који је наведен након `else` дела, а прескаче се (не извршава се) група наредби која је наведена после `if` дела."
   ]
  },
  {
   "cell_type": "markdown",
   "metadata": {},
   "source": [
    "<img src=\"slike/visestruko-else.jpg\" width=300px>"
   ]
  },
  {
   "cell_type": "markdown",
   "metadata": {},
   "source": [
    "### Правила увлачења наредби код вишеструког гранања"
   ]
  },
  {
   "cell_type": "markdown",
   "metadata": {},
   "source": [
    "Као и код једностуког гранања и код присања наредби у `if-else` структури веома је важно правлно увлачење наредби како у `if` делу тако и у `else` делу разгранате структуре."
   ]
  },
  {
   "cell_type": "markdown",
   "metadata": {},
   "source": [
    "Примери превилног и погрешног увлачења наредби у вишеструко разгранатој структури:\n",
    "\n",
    "<img src=\"slike/uvlacenja.jpg\" width=700px>    "
   ]
  },
  {
   "cell_type": "markdown",
   "metadata": {},
   "source": [
    "Из приказа увлачења наредби са горње слике можемо приметити следеће:\n",
    "- `if` и `else` део морају бити поравнати у линији\n",
    "- блок наредби у `if` делу морају бити поравнати (исто увлачење)\n",
    "- блок наредби у `else` делу морају бити поравнати (исто увлачење)\n",
    "- блок наредби у `if` делу и блок наредби у `else` делу не морају бити поравнати али је програм читљивији ако су и они поравнати"
   ]
  },
  {
   "cell_type": "markdown",
   "metadata": {},
   "source": [
    "### Да поновимо\n",
    "За понављање лекције креирајмо програм који симулира подизање новца са рачуна. У програм се уноси планирани износ за подизање и ако он не прелази претходно дефинисани лимит, одобрава се исплата. Уколико прелази лимит исписује се поука да се исплата не одобрава."
   ]
  },
  {
   "cell_type": "code",
   "execution_count": null,
   "metadata": {},
   "outputs": [],
   "source": [
    "# definisanje konstante za maksimalni iznos za podizanje\n",
    "LIMIT = 20000\n",
    "\n",
    "# unosenje planiranog iznosa za podizanje\n",
    "iznos = int(input('Unesite planirani iznos za podizanje'))\n",
    "\n",
    "# kontrolisanje visine planiranog iznosa za podizanje\n",
    "if iznos > LIMIT:\n",
    "    print('Planirani iznos prelazi limit za podizanje novca.')\n",
    "    print(f'Dozvoljeni limit je {LIMIT} dinara')\n",
    "else:\n",
    "    print(f'Isplata od {iznos} dinara je odobrena.')\n",
    "\n",
    "# ispisivanje poruke nakon if naredbe\n",
    "print('Hvala što koristite Python kreditnu karticu.')"
   ]
  },
  {
   "cell_type": "markdown",
   "metadata": {},
   "source": [
    "### Задаци за вежбу"
   ]
  },
  {
   "cell_type": "markdown",
   "metadata": {},
   "source": [
    "1. Унети два броја. Исписати прво већи па мањи број."
   ]
  },
  {
   "cell_type": "code",
   "execution_count": null,
   "metadata": {},
   "outputs": [],
   "source": [
    "# овде можете унети и покренути програм\n",
    "\n",
    "\n",
    "\n",
    "\n",
    "\n"
   ]
  },
  {
   "cell_type": "markdown",
   "metadata": {},
   "source": [
    "2. Унети број. Ако је позитиван исписати његов корен, а ако је негтиван исписати његов квадрат."
   ]
  },
  {
   "cell_type": "code",
   "execution_count": null,
   "metadata": {},
   "outputs": [],
   "source": [
    "\n",
    "\n",
    "\n",
    "\n"
   ]
  },
  {
   "cell_type": "markdown",
   "metadata": {},
   "source": [
    "3. Унети три броја и исписати број унесених негативних бројева или поруку да није унесен ниједан негативан број"
   ]
  },
  {
   "cell_type": "code",
   "execution_count": null,
   "metadata": {},
   "outputs": [],
   "source": []
  },
  {
   "cell_type": "markdown",
   "metadata": {},
   "source": [
    "4. Унети три броја. Исписати производ парних (или да није унесен ниједан паран број) и производ непарних (или поруку да није унесен ниједан непаран број)."
   ]
  },
  {
   "cell_type": "code",
   "execution_count": null,
   "metadata": {},
   "outputs": [],
   "source": []
  },
  {
   "cell_type": "markdown",
   "metadata": {},
   "source": [
    "5. Уноси се троцифрен број. Исписати збир његових цифара или да унесени број није троцифрен."
   ]
  },
  {
   "cell_type": "code",
   "execution_count": null,
   "metadata": {},
   "outputs": [],
   "source": []
  }
 ],
 "metadata": {
  "kernelspec": {
   "display_name": "Python 3",
   "language": "python",
   "name": "python3"
  },
  "language_info": {
   "codemirror_mode": {
    "name": "ipython",
    "version": 3
   },
   "file_extension": ".py",
   "mimetype": "text/x-python",
   "name": "python",
   "nbconvert_exporter": "python",
   "pygments_lexer": "ipython3",
   "version": "3.7.4"
  }
 },
 "nbformat": 4,
 "nbformat_minor": 2
}
