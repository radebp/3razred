{
 "cells": [
  {
   "cell_type": "markdown",
   "metadata": {},
   "source": [
    "**<center>Раде Стојаковић - Гимназија \"20. октобар\" Бачка Паланка</center>**"
   ]
  },
  {
   "cell_type": "markdown",
   "metadata": {},
   "source": [
    "<div style=\"height:50px; background-color:#cceeff; padding:5px; border-radius:5px\">\n",
    "\n",
    "### <center>  Задаци са for петљом - 2. део </center>\n",
    "</div>"
   ]
  },
  {
   "cell_type": "markdown",
   "metadata": {
    "deletable": false,
    "editable": false
   },
   "source": [
    "<div style=\"font-size:15px\">\n",
    "\n",
    "1. У интервалу од **`k`** до **`n`** исписати бројеве који су дељиви са 5. <br>\n",
    "<br>\n",
    "2.\tЗа време трчања трошите 4.2 калорије за 1 минут. Испишите табелу утрошених калорија за 5, 10, 15, 20 25 и 30 минута трчања.<br>\n",
    "\n",
    "|Minuti|Kalorije|\n",
    "|------|--------|\n",
    "|5     |      21|\n",
    "|10    |      42|\n",
    "|15    |      63|\n",
    "|20    |      84|\n",
    "|25    |     105|\n",
    "|30    |     126|\n",
    "\n",
    "3.\tУноси се **`n`** бројева. Исписати  укупан збир парних и укупан збир непарних.<br>\n",
    "<br>\n",
    "4.\tУносе се температуре за **`n`** дана. Ако је температура у дану испод 15 степени потребно је грејање, а ако је 15 и виша није потребно грејање. Исписати колико је дана било потребно грејање, а колико није.<br>\n",
    "<br>\n",
    "\n",
    "5.\tЗа **`n`** ученика се уноси број неоправданих изостанака. Ако ученик има више од 5 неоправданих добија укор. Исписати укупан број неоправданих изостанака, просечан број неоправданих изостанака, број ученика са укором и број ученика без укора.<br>\n",
    "<br>\n",
    "6.\tИсписати табелу брзина у километрима на сат и миљама на сат од 10 до 100 у корацима од 10. (У првој колони су приказани километри на сат, а у другој еквивалент у миљама на сат.) 1 км = 0.62137 миље<br>\n",
    "\n",
    "\n",
    "|km/h|milje/h|\n",
    "|------|--------|\n",
    "|10    |    6.21|\n",
    "|20    |   12.43|\n",
    "|30    |   18.64|\n",
    "|40    |   24.86|\n",
    "|50    |   31.07|\n",
    "|60    |   37.28|\n",
    "|70    |   43.50|\n",
    "|80    |   49.71|\n",
    "|90    |   55.92|\n",
    "|100   |   62.14|\n",
    "\n",
    "7.\tОрганизована група посетилаца долази у зоолошки врт. У зависности од година посетилаца цене су различите. Деца млађа од 5 година не плаћају ништа, деца од 5 до 15 година плаћају пола цене, а остали пуну цену. Унети број особа и пуну цену. Затим уносити године сваке особе и на крају исписати колика је укупна цена за целу групу.<br>\n",
    "<br>\n",
    "8. Написати програм у коме се уноси број и степен. Исписати колико износи број на унесени степен не користећи операцију степеновања (нпр. ако се унесе 3 и 5 треба исписати колико износи $3^5$) <br>\n",
    " <br>\n",
    "9. Уноси се број и исписује факторијел тог броја (на пример ако се унесе број 6 треба исписати $6!$ тј. $1*2*3*4*5*6$<br>\n",
    "<br>\n",
    "10.\tПрограм **`N`** пута насумично бира  два броја између 1 и 7 (укључујући и 1 и 7). Ако збир два броја износи до 7 (2, 3, 4, 5, 6 или 7) добија се 4 бода. Ако је збир већи губи се 1 бод. Исписати укупан број бодова на крају игре.<br>\n",
    "<br>\n",
    "11.\tПрограм **`N`** пута насумично бира  два броја између 10 и 100. Корисник треба да упише колики је збир два броја. На крају програма се исписује колико је тачних и колико нетачних одговора и проценат успешности.\n",
    "</div>\n"
   ]
  },
  {
   "cell_type": "code",
   "execution_count": null,
   "metadata": {},
   "outputs": [],
   "source": [
    "# 1. zadatak\n",
    "k = int(input('Unesi početak intervala: '))\n",
    "n = int(input('Unesi kraj intervala: '))\n",
    "\n",
    "# end = ' ' znači da se ispisivanje završava sa razmakom i nastavlja u istom redu\n",
    "print('Brojevi deljivi sa 5:', end = ' ')\n",
    "for i in range(k, n+1):\n",
    "    if i % 5 == 0:\n",
    "        print(i, end = ' ')"
   ]
  },
  {
   "cell_type": "code",
   "execution_count": null,
   "metadata": {},
   "outputs": [],
   "source": [
    "# 2. zadatak\n",
    "print('Minuti\\tKalorije')\n",
    "print('=' * 16)\n",
    "for i in range(5,31,5):\n",
    "    print(f'{i:<8} {i * 4.2:>3.0f}')"
   ]
  },
  {
   "cell_type": "code",
   "execution_count": null,
   "metadata": {},
   "outputs": [],
   "source": [
    "# 3. zadatak\n",
    "n = int(input('Koliko brojeva unosiš: '))\n",
    "zbir_parnih = zbir_neparnih = 0  # dodeljuje je 0 za oba zbira u jednoj liniji\n",
    "\n",
    "for i in range(n):\n",
    "    broj = int(input(f'Unesi {i + 1}. broj: '))\n",
    "    if broj  % 2 == 0:\n",
    "        zbir_parnih += broj\n",
    "    else:\n",
    "        zbir_neparnih += broj\n",
    "\n",
    "if zbir_parnih > 0:\n",
    "    print(f'Zbir parnih brojeva: {zbir_parnih}')\n",
    "else:\n",
    "    print('Nema unesenih parnih brojeva')\n",
    "\n",
    "if zbir_neparnih > 0:\n",
    "    print(f'Zbir neparnih brojeva: {zbir_neparnih}')\n",
    "else:\n",
    "    print('Nema unesenih neparnih brojeva.')"
   ]
  },
  {
   "cell_type": "code",
   "execution_count": null,
   "metadata": {},
   "outputs": [],
   "source": [
    "# 4. zadatak\n",
    "broj_dana = int(input('Za koliko dana unosiš temperaturu: '))\n",
    "treba = ne_treba = 0\n",
    "for dan in range(broj_dana):\n",
    "    temperatura = int(input(f'Temperatura {dan + 1}. dana: '))\n",
    "    if temperatura > 15:\n",
    "        treba = treba + 1\n",
    "    else:\n",
    "        ne_treba = ne_treba + 1\n",
    "print(f'\\nDana sa grejanjem: {treba}')\n",
    "print(f'Dana bez grejanja: {ne_treba}')"
   ]
  },
  {
   "cell_type": "code",
   "execution_count": null,
   "metadata": {},
   "outputs": [],
   "source": [
    "# 5. zadatak\n",
    "brojUcenika = int(input('Za koliko učenika unosiš izostanke: '))\n",
    "neopravdanih = 0\n",
    "saUkorom = 0\n",
    "bezUkora = 0\n",
    "for ucenik in range(brojUcenika):\n",
    "    izostanaka = int(input('Unesi broj neopravdanih: '))\n",
    "    if izostanaka > 5:\n",
    "        saUkorom = saUkorom + 1\n",
    "    neopravdanih = neopravdanih + izostanaka\n",
    "print(f'U odeljenju ima {neopravdanih:.2f} neopravdanih izostanaka. \\\n",
    "Po učeniku iznosi {neopravdanih/brojUcenika} neopravdanih.')\n",
    "print(f'{saUkorom} učenika ima ukor, a {brojUcenika - saUkorom} učenika je bez ukora.')\n",
    "\n",
    "# kosu liniju \\ (u redu broj 11) koristite da dugačku naredbu možete prelomiti u dva ili više redova"
   ]
  },
  {
   "cell_type": "code",
   "execution_count": null,
   "metadata": {},
   "outputs": [],
   "source": [
    "# 6. zadatak\n",
    "print('km/h\\tmilje/h')\n",
    "print('-' * 16)\n",
    "for i in range(10, 101, 10):\n",
    "    print(f'{i:>3}\\t{i * 0.62137:>7.2f}')"
   ]
  },
  {
   "cell_type": "code",
   "execution_count": null,
   "metadata": {},
   "outputs": [],
   "source": [
    "# 7. zadatak\n",
    "brojOsoba = int(input('Koliko ima posetilaca u grupi: '))\n",
    "punaCena = float(input('Unesi punu cenu ulaznice: '))\n",
    "ukupno = 0\n",
    "mali = srednji = odrasli = 0\n",
    "for i in range(brojOsoba):\n",
    "    god = int(input('Unesi broj godina posetioca: '))\n",
    "    if god <= 5:\n",
    "        ukupno = ukupno + 0\n",
    "        mali = mali + 1\n",
    "    elif 5 < god < 16:\n",
    "        ukupno = ukupno + punaCena / 2\n",
    "        srednji = srednji + 1\n",
    "    else:\n",
    "        ukupno = ukupno + punaCena\n",
    "        odrasli = odrasli + 1\n",
    "print(f'Broj posetilaca: {mali} do 5 g, {srednji} do 15 godina i {odrasli} odraslih.')\n",
    "print(f'Ukupan iznos za ulaznice: {ukupno} dinara.')"
   ]
  },
  {
   "cell_type": "code",
   "execution_count": null,
   "metadata": {},
   "outputs": [],
   "source": [
    "# 8. zadatak\n",
    "broj = int(input('Unesi broj koji stepenuješ:'))\n",
    "stepen = int(input('Na koji stepen stepenuješ: '))\n",
    "proizvod = 1\n",
    "# ako stepenujemo broj 3 na 5 stepen računamo 3 * 3 * 3 * 3 * 3\n",
    "for i in range(stepen):\n",
    "    proizvod = proizvod * broj\n",
    "print(f'Broj {broj} na {stepen} stepen iznosi: {proizvod}')"
   ]
  },
  {
   "cell_type": "code",
   "execution_count": null,
   "metadata": {},
   "outputs": [],
   "source": [
    "# 9. zadatak\n",
    "broj = int(input('Unesi broj za koji računaš faktorijel: '))\n",
    "proizvod = 1\n",
    "# faktorijel broja dobijemo tako što množimo sve brojeve\n",
    "# od 1 do unesenog broja (faktorijel broja 6 dobijamo tako \n",
    "# što pomnožimo brojeve 1 * 2 * 3 * 4 * 5 * 6\n",
    "for i in range(1, broj + 1):\n",
    "    proizvod = proizvod * i\n",
    "print(f'Faktorijel broja {broj} je {proizvod}.')"
   ]
  },
  {
   "cell_type": "code",
   "execution_count": null,
   "metadata": {},
   "outputs": [],
   "source": [
    "# 10. zadatak\n",
    "import random\n",
    "bodovi = 0\n",
    "n = int(input('Koliko puta biraš brojeve: '))\n",
    "for i in range(n):\n",
    "    broj1 = random.randint(1,7)\n",
    "    broj2 = random.randint(1,7)\n",
    "    if 2 <= broj1 + broj2 <= 7:\n",
    "        bodovi = bodovi + 4\n",
    "        print(f'{broj1} + {broj2} = {broj1 + broj2}, dobitak')\n",
    "    else:\n",
    "        bodovi = bodovi - 1\n",
    "        print(f'{broj1} + {broj2} = {broj1 + broj2}, gubitak')\n",
    "print(f'Ukupno bodova: {bodovi}.')"
   ]
  },
  {
   "cell_type": "code",
   "execution_count": null,
   "metadata": {},
   "outputs": [],
   "source": [
    "# 11. zadatak\n",
    "import random\n",
    "n = int(input('Koliko puta ćeš sabirati: '))\n",
    "brt = brn = 0\n",
    "for i in range(n):\n",
    "    br1 = random.randint(10,100)\n",
    "    br2 = random.randint(10,100)\n",
    "    mojZbir = int(input(f'Koliko je {br1} + {br2}: '))\n",
    "    if mojZbir == br1 + br2:\n",
    "        print('Tačno!')\n",
    "        brt = brt + 1 # broj tačnih odgovora se uvećava za 1\n",
    "    else:\n",
    "        print('Netačno!')\n",
    "        brn = brn + 1 # broj netačnih odgovora se uvećava za 1\n",
    "        \n",
    "print(f'\\nTačno ste odgovorili {brt} puta, a netačno {brn} puta.')\n",
    "print(f'Procenat uspešnosti: {brt/n:.2%}.')"
   ]
  }
 ],
 "metadata": {
  "kernelspec": {
   "display_name": "Python 3",
   "language": "python",
   "name": "python3"
  },
  "language_info": {
   "codemirror_mode": {
    "name": "ipython",
    "version": 3
   },
   "file_extension": ".py",
   "mimetype": "text/x-python",
   "name": "python",
   "nbconvert_exporter": "python",
   "pygments_lexer": "ipython3",
   "version": "3.7.5"
  }
 },
 "nbformat": 4,
 "nbformat_minor": 2
}
