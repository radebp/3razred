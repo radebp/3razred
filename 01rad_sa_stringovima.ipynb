{
 "cells": [
  {
   "cell_type": "markdown",
   "metadata": {},
   "source": [
    "<p style=\"text-align:center;\">Раде Стојаковић, Гимназија \"20. октобар\" Бачка Паланка</p>"
   ]
  },
  {
   "cell_type": "markdown",
   "metadata": {},
   "source": [
    "[Почетна страница](00pocetna.ipynb)"
   ]
  },
  {
   "cell_type": "markdown",
   "metadata": {},
   "source": [
    "## Рад са стринговима у Пајтону"
   ]
  },
  {
   "cell_type": "markdown",
   "metadata": {},
   "source": [
    "Часто се у програмима изводе операција не само са бројевима већ и са текстом. Текст представља низ карактера: слова, бројева, знакова интерпункције, размака итд.\n",
    "У Пајтону стринг представља низ карактера који се налази између знакова навода или апостофа.\n",
    "У следећем примеру променљивима `naziv_skole` и `mesto` додељују се вредности које представљају текстуални податак (**стринг**)\n",
    "\n",
    "```Python\n",
    "naziv_skole = input('Unesite naziv škole: ')\n",
    "mesto = input('Unesite mesto: ')\n",
    "print(naziv_skole, mesto)\n",
    "```"
   ]
  },
  {
   "cell_type": "markdown",
   "metadata": {},
   "source": [
    "Стринг је низ карактера који се налази између знакова навода или апострофа или њихових комбинација. Знак којим се зпочиње стринг мора бити и на крају стринга.\n",
    "\n",
    "```Python\n",
    "print(\"Гимназија Бачка Паланка\")\n",
    "print('Рад са стринговима у Пајтону')\n",
    "```"
   ]
  },
  {
   "cell_type": "markdown",
   "metadata": {},
   "source": [
    "Могуће је користити и комбинацију знакова навода и апострофа, уколико је то потребно. Почетни знак мора бити и завршни.\n",
    "```Python\n",
    "print('Гимназија \"20. октобар\" Бачка Паланка')\n",
    "```"
   ]
  },
  {
   "cell_type": "markdown",
   "metadata": {},
   "source": [
    "Стринг се може наводити и између троструких знакова навода. Користи се да би се унутар стринга могли произвољно наводити и знакови навода и апострофи."
   ]
  },
  {
   "cell_type": "code",
   "execution_count": null,
   "metadata": {},
   "outputs": [],
   "source": [
    "print(''' У овом \"стрингу\" се могу \"произвољно\" наводити и 'апострофи' и знакови \"навода\" на разним местима 'без' проблема.''')"
   ]
  },
  {
   "cell_type": "markdown",
   "metadata": {},
   "source": [
    "## Операције са стринговима"
   ]
  },
  {
   "cell_type": "markdown",
   "metadata": {},
   "source": [
    "Операције које се могу изводити са стринговима су **спајање** и **умножавање**. Спајањем се од неколико стрингова ствара један већи стринг. За спајање се користи знак плус `(+)`."
   ]
  },
  {
   "cell_type": "code",
   "execution_count": null,
   "metadata": {},
   "outputs": [],
   "source": [
    "ime = \"Јована\"\n",
    "prezime = 'Марковић'\n",
    "puno_ime = ime + prezime\n",
    "print(puno_ime)"
   ]
  },
  {
   "cell_type": "markdown",
   "metadata": {},
   "source": [
    "У горњем примеру се може видети да је резултат спајања стрингова нови стринг без размака између стрингова који су спојени. Ако се жели направити размак у испишу делова стринга користи се нови стринг који представља размак:"
   ]
  },
  {
   "cell_type": "code",
   "execution_count": null,
   "metadata": {},
   "outputs": [],
   "source": [
    "puno_ime = ime + ' ' + prezime\n",
    "print(puno_ime)"
   ]
  },
  {
   "cell_type": "markdown",
   "metadata": {},
   "source": [
    "Умножавањем се један стринг понавља одређени број пута. Операција умножавања се постиже користећи знак за множење `(*)`"
   ]
  },
  {
   "cell_type": "code",
   "execution_count": null,
   "metadata": {},
   "outputs": [],
   "source": [
    "okvir = '-' * 25\n",
    "print(okvir)\n",
    "print('Гимназија \"20. октобар\"')\n",
    "print(okvir)"
   ]
  },
  {
   "cell_type": "markdown",
   "metadata": {},
   "source": [
    "### Методе (функције) у раду са стринговима"
   ]
  },
  {
   "cell_type": "markdown",
   "metadata": {},
   "source": [
    "У раду са стринговима у Пајтону је могуће користити разне методе (функције). Неке од најчешћих су следеће:\n",
    "* `len()` - резултат представља дужину стринга - број карактера у стрингу\n",
    "* `find()` - резултат представља позицију дела стринга унутар стринга\n",
    "* `upper()` - исписује стринг великим словима\n",
    "* `lower()` - исписује стринг малим словима\n",
    "* `count()` - резлтат је број појављивања дела стринга унутар стринга\n",
    "* `center()` - центрира стринг унутар наведеног подручја"
   ]
  },
  {
   "cell_type": "code",
   "execution_count": null,
   "metadata": {},
   "outputs": [],
   "source": [
    "pojam = 'Gimnazija Bačka Palanka'"
   ]
  },
  {
   "cell_type": "markdown",
   "metadata": {},
   "source": [
    "Функција `len()` као резултат враћа дужину стринга (број карактера који се налазе у стрингу). Тако добијен број додељује се променљивој  `duzina`."
   ]
  },
  {
   "cell_type": "code",
   "execution_count": null,
   "metadata": {},
   "outputs": [],
   "source": [
    "duzina = len(pojam)\n",
    "print(duzina)"
   ]
  },
  {
   "cell_type": "markdown",
   "metadata": {},
   "source": [
    "Фнкција `find()` као резултат враћа позицију на којој се налази стринг који је аргумент функције (у овом случају карактер `В`). Ако се у стрингу на више места налази аргумент функције за који желимо добити позицију, враћа се само позиција првог елемента у стрингу. Уколико у стрингу не постоји карактер или више карактера које тражимо, резултат функције `find()` је `-1`"
   ]
  },
  {
   "cell_type": "markdown",
   "metadata": {},
   "source": [
    "Позиција карактера унутар стринга почиње са **нулом**. Први карактер у стрингу се налази на позицији **0**, други карактер је на позицији **1** итд."
   ]
  },
  {
   "cell_type": "code",
   "execution_count": null,
   "metadata": {},
   "outputs": [],
   "source": [
    "pozicija_B = pojam.find(\"B\")\n",
    "print(pozicija_B)"
   ]
  },
  {
   "cell_type": "markdown",
   "metadata": {},
   "source": [
    "Може се тражити позиција и стринга који је дужи од једног карактера. Тада се као резултат враћа позиција првог карактера низа који се тражи."
   ]
  },
  {
   "cell_type": "code",
   "execution_count": null,
   "metadata": {},
   "outputs": [],
   "source": [
    "pozicija2 = pojam.find('Pa')\n",
    "print(pozicija2)"
   ]
  },
  {
   "cell_type": "markdown",
   "metadata": {},
   "source": [
    "Функција `upper()` приказује стринг исписан великим словима. Она не мења постојећи стринг већ га само приказује исписан великим словима."
   ]
  },
  {
   "cell_type": "code",
   "execution_count": null,
   "metadata": {},
   "outputs": [],
   "source": [
    "skola = 'Gimnazija Bačka Palanka'\n",
    "print(skola)\n",
    "print(skola.upper()) # приказује стринг исписан великим словима\n",
    "print(skola) # ако се поново исписује стриг, он ће бити исписан у свом оригиналном облику"
   ]
  },
  {
   "cell_type": "markdown",
   "metadata": {},
   "source": [
    "Ако се жели променити стринг тако да његова вредност остане исписана великим словима онда се резултат функције `upper()` додељује новој или истој променљивој."
   ]
  },
  {
   "cell_type": "code",
   "execution_count": null,
   "metadata": {},
   "outputs": [],
   "source": [
    "print(skola) # prvobitna vrednost promanqive pojam\n",
    "skola = skola.upper() # вредност променљиве појам se мења у велика слова и додељује као нова врдност променљивој pojam\n",
    "print(skola) # променљива pojam сада има као вредност стринг исписан великим словима"
   ]
  },
  {
   "cell_type": "markdown",
   "metadata": {},
   "source": [
    "По сличном принципу функционише и функција `lower()`. Помоћу ње можемо стринг исписати малим словима."
   ]
  },
  {
   "cell_type": "code",
   "execution_count": null,
   "metadata": {},
   "outputs": [],
   "source": [
    "mala_slova = skola.lower()\n",
    "print(mala_slova)"
   ]
  },
  {
   "cell_type": "markdown",
   "metadata": {},
   "source": [
    "Функција `count()`као резултат враћа број појављивања траженог стринга унутар оригиналног стринга."
   ]
  },
  {
   "cell_type": "code",
   "execution_count": null,
   "metadata": {},
   "outputs": [],
   "source": [
    "skola = 'Gimnazija Bačka Palanka'\n",
    "broj_slova_a = skola.count('a')\n",
    "print(broj_slova_a)"
   ]
  },
  {
   "cell_type": "code",
   "execution_count": null,
   "metadata": {},
   "outputs": [],
   "source": [
    "broj_slova_s = skola.count('s')\n",
    "print(broj_slova_s)"
   ]
  },
  {
   "cell_type": "markdown",
   "metadata": {},
   "source": [
    "Функција `çenter()` омогућава да стринг испишемо на средини одређеног подручја. Као аргумент се наводи ширина подручја у коме желимо да испишемо стринг."
   ]
  },
  {
   "cell_type": "code",
   "execution_count": null,
   "metadata": {},
   "outputs": [],
   "source": [
    "print('-' * 40) # исписује се знак - 40 пута\n",
    "print(skola.center(40)) # вредност стринга skola ће бити исписана на средини подручја од 40 места\n",
    "print('-' * 40)"
   ]
  },
  {
   "cell_type": "markdown",
   "metadata": {},
   "source": [
    "Функција `çenter()` може имати и други аргумент. Он представља карактер који ће бити исписан пре и после центрираног стринга да би се попунило подручје које је наведено као први аргумент."
   ]
  },
  {
   "cell_type": "code",
   "execution_count": null,
   "metadata": {},
   "outputs": [],
   "source": [
    "print(skola.center(40, '-'))"
   ]
  },
  {
   "cell_type": "markdown",
   "metadata": {},
   "source": [
    "## Издвајање делова стринга"
   ]
  },
  {
   "cell_type": "markdown",
   "metadata": {},
   "source": [
    "Из стринга се могу издвојити жељени делови у зависности од њихове позиције у стрингу. Позиција дела стринга унутар стринга се назива `индекс`. Први карактер у стрингу има идекс 0, други карактер има индекс 1 итд.\n",
    "Позиција карактера се може нумерисати и од краја стринга према почетку. Индекс последњег карактера у стрингу је -1, претпоследњег -2 итд."
   ]
  },
  {
   "cell_type": "markdown",
   "metadata": {},
   "source": [
    "<img src=\"slike/indekselemenatastringa.jpg\">"
   ]
  },
  {
   "cell_type": "markdown",
   "metadata": {},
   "source": [
    "Пример за приказ дела једног карактера у стрингу:\n",
    "```Python\n",
    "mesto = \"Бачка Паланка\"\n",
    "print(mesto[6]) # приказује се крактер који се налази на 6. позицији у стрингу (има индекс 6)\n",
    "```"
   ]
  },
  {
   "cell_type": "code",
   "execution_count": null,
   "metadata": {},
   "outputs": [],
   "source": [
    "mesto = \"Бачка Паланка\"\n",
    "print(mesto[6])"
   ]
  },
  {
   "cell_type": "code",
   "execution_count": null,
   "metadata": {},
   "outputs": [],
   "source": [
    "mesto = 'Бачка Паланка'\n",
    "print(mesto[-3])"
   ]
  },
  {
   "cell_type": "markdown",
   "metadata": {},
   "source": [
    "Могуће је из стринга издвојити више од једног карактера. У том случају се наводи почетна и крајња позиција дела стринга. Почетна и крајња позиција су раздвојене двотачком\n",
    "```Python\n",
    "string[početak:kraj] \n",
    "string[:kraj] # уколико се не наведе почетак сматра се да почетна позиција почетак стринга\n",
    "string[početak:] # уколико се не наведе крај сматра се издвајање врши до краја стринга\n",
    "string[:] # издвајају се сви карактери у стрингу\n",
    "```"
   ]
  },
  {
   "cell_type": "markdown",
   "metadata": {},
   "source": [
    "Приликом навођења сегмента који се издваја, карактер који се налази на крајњој позицији (`kraj`) не улази у селекцију. У следећем примеру ће се издвојити карактери који се налазе од позиције 6 до закаључно позиције 9."
   ]
  },
  {
   "cell_type": "code",
   "execution_count": null,
   "metadata": {},
   "outputs": [],
   "source": [
    "deo = mesto[6:10]\n",
    "print(deo)"
   ]
  },
  {
   "cell_type": "code",
   "execution_count": null,
   "metadata": {},
   "outputs": [],
   "source": [
    "print(mesto[-6:-3])"
   ]
  },
  {
   "cell_type": "code",
   "execution_count": null,
   "metadata": {},
   "outputs": [],
   "source": [
    "print(mesto[-4:])\n",
    "print(mesto[9:])"
   ]
  }
 ],
 "metadata": {
  "kernelspec": {
   "display_name": "Python 3",
   "language": "python",
   "name": "python3"
  },
  "language_info": {
   "codemirror_mode": {
    "name": "ipython",
    "version": 3
   },
   "file_extension": ".py",
   "mimetype": "text/x-python",
   "name": "python",
   "nbconvert_exporter": "python",
   "pygments_lexer": "ipython3",
   "version": "3.7.4"
  }
 },
 "nbformat": 4,
 "nbformat_minor": 2
}
