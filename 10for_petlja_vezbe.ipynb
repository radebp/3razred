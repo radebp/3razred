{
 "cells": [
  {
   "cell_type": "markdown",
   "metadata": {},
   "source": [
    "<p style=\"text-align:center;\">Раде Стојаковић, Гимназија \"20. октобар\" Бачка Паланка</p>"
   ]
  },
  {
   "cell_type": "markdown",
   "metadata": {},
   "source": [
    "[Почетна страница](00pocetna.ipynb)"
   ]
  },
  {
   "cell_type": "markdown",
   "metadata": {},
   "source": [
    "### Вежбе у раду са **`for`** петљом "
   ]
  },
  {
   "cell_type": "markdown",
   "metadata": {},
   "source": [
    "<div style=\"background-color:#cceeff; padding:10px; border-radius:5px\">\n",
    "\n",
    "На овој страници се налази десет задатака у којима можете вежбати рад са **`for`** петљом. Наведени су задаци које треба да урадите и проверите да ли сте добро разумели и решили задатак.\n",
    "\n",
    "У програмском делу дати су одређени кораци које ви треба да измените или допуните. Када направите измене за које сматрате да су потребне кликните на дугме **`Run`** и ако нема грешака програм ће се извршити.\n",
    "\n",
    "Уколико не видите бројеве линија, из менија **`View`** изаберите ставку **`Toggle Line Numbers`**.\n",
    "\n",
    "</div>"
   ]
  },
  {
   "cell_type": "markdown",
   "metadata": {},
   "source": [
    "<div style=\"background-color: #e6f4a4; padding:20px; \">\n",
    "\n",
    "**1. Комплетирај линију 1, 2 и 5 у програму тако да сабереш све бројеве од 1 до 5 и прикажеш збир.**\n",
    "</div>"
   ]
  },
  {
   "cell_type": "code",
   "execution_count": null,
   "metadata": {},
   "outputs": [],
   "source": [
    "zbir =\n",
    "lista = [ ]\n",
    "for broj in lista:\n",
    "    zbir = zbir + broj\n",
    "print(\"Zbir svih brojeva je\")"
   ]
  },
  {
   "cell_type": "markdown",
   "metadata": {},
   "source": [
    "<div style=\"background-color: #e6f4a4; padding:20px; \">\n",
    "\n",
    "**2. Исправи грешку у програму тако да се приказује збир свих бројева од 1 до 10 (укључујући и 10).**\n",
    "</div>"
   ]
  },
  {
   "cell_type": "code",
   "execution_count": null,
   "metadata": {},
   "outputs": [],
   "source": [
    "zbir = 0\n",
    "for broj in range(1,10):\n",
    "    zbir = broj\n",
    "print()"
   ]
  },
  {
   "cell_type": "markdown",
   "metadata": {},
   "source": [
    "<div style=\"background-color: #e6f4a4; padding:20px; \">\n",
    "\n",
    "**3. Преправи програм да исписује следеће податке:**\n",
    "</div>    \n",
    "    \n",
    "|Broj|Kvadrat|Koren|\n",
    "|----|:-----:|:----:|\n",
    "|2   |4      |1.41 |\n",
    "|3   |9      |1.73 |\n",
    "|4|16|2.00|\n",
    "|5|25|2.24|\n",
    "|6|36|2.45|\n"
   ]
  },
  {
   "cell_type": "code",
   "execution_count": null,
   "metadata": {},
   "outputs": [],
   "source": [
    "print(\"Broj  Kvadrat  Koren\")\n",
    "print(\"--------------------\")\n",
    "\n",
    "for broj in range():\n",
    "    kvadrat =\n",
    "    koren =\n",
    "    print()\n"
   ]
  },
  {
   "cell_type": "markdown",
   "metadata": {},
   "source": [
    "<div style=\"background-color: #e6f4a4; padding:20px; \">\n",
    "\n",
    "**4. Исправи грешке у програму тако да се приказује производ сваког петог броја између 5 и (укључујући и) 25. Дакле, производ бројева 5, 10, 15, 20 и 25.**\n",
    "</div>"
   ]
  },
  {
   "cell_type": "code",
   "execution_count": null,
   "metadata": {},
   "outputs": [],
   "source": [
    "proizvod =\n",
    "\n",
    "for broj in :\n",
    "    proizvod = proizvod + broj\n",
    "print(\"Proizvod iznosi\")\n"
   ]
  },
  {
   "cell_type": "markdown",
   "metadata": {},
   "source": [
    "<div style=\"background-color: #e6f4a4; padding:20px; \">\n",
    "\n",
    "**5. Додај код који недостаје да би кроз петљу израчунао и приказао збир бројева од 1 до унесеног броја са тастатуре.**\n",
    "</div>"
   ]
  },
  {
   "cell_type": "code",
   "execution_count": null,
   "metadata": {},
   "outputs": [],
   "source": [
    "krajnjiBroj =  input(\"Unesi broj do koga računas zbir: \")\n",
    "\n",
    "# dodeljivanje početne vrednosti za zbir\n",
    "zbir =\n",
    "\n",
    "for in range():\n",
    "    zbir ="
   ]
  },
  {
   "cell_type": "markdown",
   "metadata": {},
   "source": [
    "<div style=\"background-color: #e6f4a4; padding:20px; \">\n",
    "\n",
    "**6. Преправи програм тако да сабира све непарне бројеве од 1 до (закључно) 20.**\n",
    "</div>"
   ]
  },
  {
   "cell_type": "code",
   "execution_count": null,
   "metadata": {},
   "outputs": [],
   "source": [
    "# inicijalizujemo početni vrednost zbira\n",
    "zbir =\n",
    "\n",
    "for broj in range():\n",
    "    zbir = zbir + number   # dodajemo broj na dosadašnju vrednost zbira\n",
    "\n",
    "print(\"Zbir neparnih brojeva od 1 do 20 iznosi \")"
   ]
  },
  {
   "cell_type": "markdown",
   "metadata": {},
   "source": [
    "<div style=\"background-color: #e6f4a4; padding:20px; \">\n",
    "\n",
    "<strong>7. Преправи програм тако да броји колико има све бројева дељивих са 3 од **`k`** до **`n`**. **`k`** (почетни број) и **`n`** (крајњи број) се уносе са тастатуре.</strong>\n",
    "</div>"
   ]
  },
  {
   "cell_type": "code",
   "execution_count": null,
   "metadata": {},
   "outputs": [],
   "source": [
    "# unošenje početnog broja\n",
    "k =\n",
    "\n",
    "# unošenje krajnjeg broja\n",
    "n =\n",
    "\n",
    "# Broj deljivih sa 3 je 0 na početku\n",
    "broj_deljivih = 0\n",
    "\n",
    "for i in range():\n",
    "    # proveravamo da li je broj deljiv sa 3\n",
    "    # ako jeste uvećavamo broj deljivih sa 3 za 1\n",
    "    if broj\n",
    "\n",
    "\n",
    "# ispisujemo poruku u obliku: Broj deljivih sa 3 između X i X je X.\n",
    "# x predstavlja vrednost pojedinih promenljivih\n",
    "print()"
   ]
  },
  {
   "cell_type": "markdown",
   "metadata": {},
   "source": [
    "<div style=\"background-color: #e6f4a4; padding:20px; \">\n",
    "\n",
    "**8. Попуни недостајећим наредбама програм тако да исписује збир за 5 произвољно унесених бројева**\n",
    "</div>"
   ]
  },
  {
   "cell_type": "code",
   "execution_count": null,
   "metadata": {},
   "outputs": [],
   "source": [
    "# korak 1: dodeljivanje početne vrednosti za zbir\n",
    "zbir =\n",
    "\n",
    "# korak 2: for petlja\n",
    "for broj in range():\n",
    "    # korak 3: unošenje brojeva\n",
    "    broj = int(input(\" \"))\n",
    "\n",
    "    # korak 4: akumuliranje zbira\n",
    "    zbir = zbir +\n",
    "\n",
    "# korak 5: ispisivanje rezultata\n",
    "print()"
   ]
  },
  {
   "cell_type": "markdown",
   "metadata": {},
   "source": [
    "<div style=\"background-color: #e6f4a4; padding:20px; \">\n",
    "\n",
    "**9. Доврши програм тако да исписује средњу вредност за `n` произвољно унесених бројева.**\n",
    "</div>"
   ]
  },
  {
   "cell_type": "code",
   "execution_count": null,
   "metadata": {},
   "outputs": [],
   "source": [
    "# korak 1: dodeljivanje početne vrednosti za zbir\n",
    "\n",
    "\n",
    "# korak 2: određivanje koliko ćemo brojeva unositi\n",
    "broj_brojeva = \n",
    "\n",
    "# korak 3: for petlja\n",
    "for broj in range( ):  \n",
    "    # korak 4: unošenje brojeva\n",
    "    broj =\n",
    "\n",
    "    # korak 5: akumuliranje zbira\n",
    "\n",
    "\n",
    "# korak 6: izračunavanje srednje vrednosti\n",
    "srednja_vrednostr =\n",
    "\n",
    "# korak 7: ispisivanje rezultata\n"
   ]
  },
  {
   "cell_type": "markdown",
   "metadata": {},
   "source": [
    "<div style=\"background-color: #e6f4a4; padding:20px; \">\n",
    "\n",
    "**10. Доврши програм тако да се исписује збир парних и збир непарних за `n` унесених бројева.**\n",
    "</div>"
   ]
  },
  {
   "cell_type": "code",
   "execution_count": null,
   "metadata": {},
   "outputs": [],
   "source": [
    "# korak 1: dodeljivanje početnih vrednosti za zbir parnih i nearnih brojeva\n",
    "zbir_parnih =\n",
    "zbir_neparnih =\n",
    "\n",
    "# korak 2: određivanje koliko ćemo brojeva unositi\n",
    "broj_brojeva =\n",
    "\n",
    "# korak 3: for petlja\n",
    "for broj in range( ):  \n",
    "    # korak 4: unošenje brojeva\n",
    "    broj =\n",
    "\n",
    "    # korak 5: provera da li je broj neparan ili nije\n",
    "    if broj % 2 = :\n",
    "     \n",
    "    else:\n",
    "\n",
    "# korak 6: ispisivanje rezultata\n"
   ]
  }
 ],
 "metadata": {
  "kernelspec": {
   "display_name": "Python 3",
   "language": "python",
   "name": "python3"
  },
  "language_info": {
   "codemirror_mode": {
    "name": "ipython",
    "version": 3
   },
   "file_extension": ".py",
   "mimetype": "text/x-python",
   "name": "python",
   "nbconvert_exporter": "python",
   "pygments_lexer": "ipython3",
   "version": "3.7.5"
  }
 },
 "nbformat": 4,
 "nbformat_minor": 2
}
