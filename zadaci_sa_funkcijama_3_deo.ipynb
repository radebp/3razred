{
 "cells": [
  {
   "cell_type": "markdown",
   "metadata": {
    "deletable": false,
    "editable": false
   },
   "source": [
    "<div style=\"text-align:center; line-height:2; color:gray; background-color: #F8F8F8; height:40px\">\n",
    "Гимназија \"20. октобар\" Бачка Паланка.\n",
    "</div>"
   ]
  },
  {
   "attachments": {},
   "cell_type": "markdown",
   "metadata": {
    "deletable": false,
    "editable": false
   },
   "source": [
    "<div class=\"alert alert-block alert-danger\" style=\"font-size:1.2em; color:#003366\">\n",
    "\n",
    "Jupyter свесци промените име тако што ћете кликнути на име свеске у горњем делу екрана и у прозору који се појави имену свеске дописати своје име и презиме и кликнути на дугме **`Rename`**</div>"
   ]
  },
  {
   "cell_type": "markdown",
   "metadata": {
    "deletable": false,
    "editable": false
   },
   "source": [
    "<div class=\"alert alert-block alert-success\">\n",
    "<b>Задаци са функцијама - 3. део</b> \n",
    "</div>"
   ]
  },
  {
   "cell_type": "markdown",
   "metadata": {
    "deletable": false,
    "editable": false
   },
   "source": [
    "1.\tНаписати програм који тражи од корисника да унесе удаљеност у километрима и исписује колико је то миља (1км = 0.6214 миље)\n",
    "\n",
    "    Функције:\n",
    "    -\tУнос километара и исписивање поруке (**`main`**)\n",
    "    -\tРачунање миља (**`kmumilje`**)\n"
   ]
  },
  {
   "cell_type": "code",
   "execution_count": null,
   "metadata": {},
   "outputs": [],
   "source": [
    "# овде пишете код за 1. задатак\n",
    "\n"
   ]
  },
  {
   "attachments": {
    "1zad.png": {
     "image/png": "[encoded data removed]"
    }
   },
   "cell_type": "markdown",
   "metadata": {
    "deletable": false,
    "editable": false
   },
   "source": [
    "2.\tКреирати функцију која одређује дужину унесеног стринга (као уграђена функција **`len`**). U **`main`** функцији се уноси стринг и исписује дужина стринга. У функцији **`odrediDuzinu`** се одређује дужина стринга и враћа у **`main`** функцију. \n",
    "\n",
    "    <span style=\"color:red\">Не користити функцију <strong>len()</strong></span>\n",
    "![1zad.png](attachment:1zad.png)\n",
    "\n"
   ]
  },
  {
   "cell_type": "code",
   "execution_count": null,
   "metadata": {},
   "outputs": [],
   "source": [
    "# овде пишете код за 2. задатак\n",
    "\n"
   ]
  },
  {
   "attachments": {
    "2zad.PNG": {
     "image/png": "[encoded data removed]"
    }
   },
   "cell_type": "markdown",
   "metadata": {
    "deletable": false,
    "editable": false
   },
   "source": [
    "3.\tУноси се порука. Исписати поруку и линије изнад и испод поруке. Линије морају бити исте ширине као и порука.<br>\n",
    "    **Функције:**<br>\n",
    "    Унос поруке (**`main`**)<br>\n",
    "    Исписивање уоквирене поруке (**`uokviri`**)\n",
    "    \n",
    "   <img src=\"attachment:2zad.PNG\" width=\"300\">"
   ]
  },
  {
   "cell_type": "code",
   "execution_count": null,
   "metadata": {},
   "outputs": [],
   "source": [
    "# овде пишете код за 3. задатак\n",
    "\n"
   ]
  },
  {
   "attachments": {
    "3zad.png": {
     "image/png": "[encoded data removed]"
    }
   },
   "cell_type": "markdown",
   "metadata": {
    "deletable": false,
    "editable": false
   },
   "source": [
    "4.\tУноси се порука и ширина подручја у коме се исписује (у карактерима). Исписати поруку на средини подручја не користећи функцију **`center`**. Изнад и испод поруке читавом ширином подручја се исписују звездице\n",
    "\n",
    "    Функције:\n",
    "   -\tУнос поруке и ширина подручја (**`main`**)\n",
    "   -\tИсписивање уоквирене поруке (**`ispisi`**)\n",
    "<img src=\"attachment:3zad.png\" width=\"350\">"
   ]
  },
  {
   "cell_type": "code",
   "execution_count": null,
   "metadata": {},
   "outputs": [],
   "source": [
    "# овде пишете код за 4. задатак\n",
    "\n"
   ]
  },
  {
   "cell_type": "markdown",
   "metadata": {
    "deletable": false,
    "editable": false
   },
   "source": [
    "5.\tУносе се два броја. Исписати већи број.\n",
    "\n",
    "    Функције:    \n",
    "      - Унос бројева и испис поруке (**`main`**)\n",
    "      -\tПровера који је број већи (**`nadjiVeci`**)\n",
    "      \n",
    "    ** допуна - исписати већи број или поруку да су бројеви исти\n"
   ]
  },
  {
   "cell_type": "code",
   "execution_count": null,
   "metadata": {},
   "outputs": [],
   "source": [
    "# овде пишете код за 5. задатак\n",
    "\n"
   ]
  },
  {
   "cell_type": "raw",
   "metadata": {
    "deletable": false
   },
   "source": [
    "Име и презиме: \n",
    "\n",
    "Одељење:  "
   ]
  }
 ],
 "metadata": {
  "kernelspec": {
   "display_name": "Python 3",
   "language": "python",
   "name": "python3"
  },
  "language_info": {
   "codemirror_mode": {
    "name": "ipython",
    "version": 3
   },
   "file_extension": ".py",
   "mimetype": "text/x-python",
   "name": "python",
   "nbconvert_exporter": "python",
   "pygments_lexer": "ipython3",
   "version": "3.7.6"
  }
 },
 "nbformat": 4,
 "nbformat_minor": 2
}
