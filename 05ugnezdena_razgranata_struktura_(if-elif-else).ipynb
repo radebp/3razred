{
 "cells": [
  {
   "cell_type": "markdown",
   "metadata": {},
   "source": [
    "<p style=\"text-align:center;\">Раде Стојаковић, Гимназија \"20. октобар\" Бачка Паланка</p>"
   ]
  },
  {
   "cell_type": "markdown",
   "metadata": {},
   "source": [
    "[Почетна страница](00pocetna.ipynb)"
   ]
  },
  {
   "cell_type": "markdown",
   "metadata": {},
   "source": [
    "**У овој лекцији можете прочитати:**  \n",
    "- [о угнежденој структури (if-elif-else)](#Угнеждена-разграната-структура-(if-elif-else))\n",
    "- [o логичким операторима (and, or, not](#Логички-оператори-(and,-or,-not))\n",
    "- [о скраћеном писању if наредбе](#Скраћено-писање-if-наредбе)\n",
    "- [Задаци за вежбу](#Задаци-за-вежбу)"
   ]
  },
  {
   "cell_type": "markdown",
   "metadata": {},
   "source": [
    "### Угнеждена разграната структура (if-elif-else)"
   ]
  },
  {
   "cell_type": "markdown",
   "metadata": {},
   "source": [
    "У претходних неколико примера видели смо како се пишу програми који имају разгранату структуру. Пре тога смо писали програме са линијском структуром. Већина програма се састоји од комбинација структура у једном дужем програму.\n",
    "\n",
    "Тако у једном делу програма имамо део линијске структуре, затим део са разгранатом структуром, па затим део са линијском структуром итд. То значи да се у програму смењују делови са структурама.\n",
    "\n",
    "На следећој слици је графички приказан програм који се састоји од неколико структура:\n",
    "<img src=\"slike/kombinacija-struktura.jpg\" width=500px>"
   ]
  },
  {
   "cell_type": "markdown",
   "metadata": {},
   "source": [
    "По истом принципу могуће је унутар разгранате структуре имати другу разгранату структуру. У том случају говоримо о **угнежденој разгранатој структури**. Једна разграната структура се налази унутар друге разгранате структуре.\n",
    "<img src=\"slike/ugnezdena-if.jpg\" width=400px>"
   ]
  },
  {
   "cell_type": "markdown",
   "metadata": {},
   "source": [
    "На горњој слици можемо видети графички приказ једне угнеждене разгрнате структуре. Ако је `uslov1` испуњен испитује се `uslov2`. Ако је он испуњен извршава се `naredba1`. Ако `uslov2` није испуњен извршава се `naredba2`.\n",
    "\n",
    "Ако `uslov1` није испуњен извршава се `naredba3`.\n",
    "\n",
    "Овај сегмент прогама би у Пајтону изгледао на следећи начин:\n",
    "\n",
    "```Python\n",
    "if uslov1:\n",
    "    if uslov2:\n",
    "        naredba1\n",
    "    else:\n",
    "        naredba2\n",
    "else:\n",
    "    naredba3\n",
    "```"
   ]
  },
  {
   "cell_type": "markdown",
   "metadata": {},
   "source": [
    "Приликом писања програма са угнежденим разгранатим структурама треба водити рачуна о поравнању `if` и `else` наредби. `Else` део структуре треба поравнати са `if` делом на који се `else` део односи. "
   ]
  },
  {
   "cell_type": "markdown",
   "metadata": {},
   "source": [
    "Нешто другачији распоред наредби у разгранатој структури би могао изгледати овако:\n",
    "\n",
    "```Python\n",
    "if toplo:\n",
    "   if nema_vetra:\n",
    "      idemo u šetnju\n",
    "else:\n",
    "   gledamo_film\n",
    "```\n"
   ]
  },
  {
   "cell_type": "markdown",
   "metadata": {},
   "source": [
    "Графички би то изгледало на следећи начин\n",
    "<img src=\"slike/ugnezdena-if-3.jpg\" width=400px>"
   ]
  },
  {
   "cell_type": "markdown",
   "metadata": {},
   "source": [
    "Дакле, uslov2 нема else део већ смо наредбу која се извршава ако је uslov2 тачан. Насупрот томе ако је `uslov1` испуњен прелази се на испитибање `услова2`, а ако `uslov1` није испуњен извршава се `naredba2`. \n",
    "\n",
    "**Приликом писања програма са угнежденим разгранатим структурама од изузетне је важности правилно наводити парове `if - else`. У супротном програм неће прикзивати исправне резултате или ће се правити синтаксне грешке.**"
   ]
  },
  {
   "cell_type": "markdown",
   "metadata": {},
   "source": [
    "Погледајмо још један пример. Треба написати програм у који се уносе два број аи исписује који број је већи, а ако су бројеви исти тада се исписује порука да су бројеви исти."
   ]
  },
  {
   "cell_type": "markdown",
   "metadata": {},
   "source": [
    "Графички приказ могућег решења је приказан на следећој слици:\n",
    "<img src=\"slike/dva-broja-graficki.jpg\" width=400px>\n",
    "\n",
    "Програм који решава наведени проблем може да изгледа на следећи начин.  Покрените га и испробајте."
   ]
  },
  {
   "cell_type": "code",
   "execution_count": null,
   "metadata": {},
   "outputs": [],
   "source": [
    "# unošenje dva broja\n",
    "broj1, broj2 = map(int, input('Unesi dva broja: ') .split(' '))\n",
    " \n",
    "# u prvom uslovu ćemo proveriti da li je 1. broj veći\n",
    "if broj1 > broj2:\n",
    "    print(f'Veći je broj {broj1}.')\n",
    "\n",
    "else:  # ako nije tačan prvi uslov u novom uslovu proveravamo da li je veći drugi broj\n",
    "    if broj2 > broj1:\n",
    "        print(f'Veći je broj {broj2}.')\n",
    "    else:  # ako nije tačan ni drugi uslov znači da su brojevi isti\n",
    "        print('Brojevi su isti.')"
   ]
  },
  {
   "cell_type": "markdown",
   "metadata": {},
   "source": [
    "Наравно, проблеи могу бити и сложенији. Погледајмо следећи задатак:\n",
    "Уносе се освојени бодови на тесту. За оцену важи следећа скала:\n",
    "\n",
    " - 90 и више бодова -->  оцена одличан\n",
    " - 80 и више бодова -->  оцена врло добар\n",
    " - 70 и више бодова -->  оцена добар\n",
    " - 60 и више бодова -->  оцена довољан\n",
    " - мање од 60 бодова-->  оцена недовољан"
   ]
  },
  {
   "cell_type": "markdown",
   "metadata": {},
   "source": [
    "Могуће решење приказано графички може да изгледа на следећи начин\n",
    "\n",
    "<img src=\"slike/ugnezdeno-bodovi.jpg\" width=550px>"
   ]
  },
  {
   "cell_type": "code",
   "execution_count": null,
   "metadata": {},
   "outputs": [],
   "source": [
    "bodovi = int(input('Unesi broj osvojenih bodova: '))\n",
    "if bodovi >= 90:\n",
    "    print('Odličan')\n",
    "else:\n",
    "    if bodovi >= 80:\n",
    "        print('Vrlodobar')\n",
    "    else:\n",
    "        if bodovi >= 70:\n",
    "            print('Dobar')\n",
    "        else:\n",
    "            if bodovi >= 60:\n",
    "                print('Dovoljan')\n",
    "            else:\n",
    "                print('Nedovoljan')\n",
    "    "
   ]
  },
  {
   "cell_type": "markdown",
   "metadata": {},
   "source": [
    "Задатак за вежбу: Преправите горњи програм да се у случају да унесена оцена није између 1 и 5 исписује одговарајућа порука о неисправној оцени."
   ]
  },
  {
   "cell_type": "markdown",
   "metadata": {},
   "source": [
    "Да би се избегло навођење више `if-else` парова, у Пајтону је могуће коритити `elif` наредбу која замењује `if-else` парове.<br>\n",
    "Горњи програм би се могао писати и на следећи начин:"
   ]
  },
  {
   "cell_type": "code",
   "execution_count": null,
   "metadata": {},
   "outputs": [],
   "source": [
    "bodovi = int(input('Unesi broj osvojenih bodova: '))\n",
    "if bodovi >= 90:\n",
    "    print('Odličan')\n",
    "elif bodovi >= 80:\n",
    "    print('Vrlodobar')\n",
    "elif bodovi >= 70:\n",
    "    print('Dobar')\n",
    "elif bodovi >= 60:\n",
    "    print('Dovoljan')\n",
    "else:\n",
    "    print('Nedovoljan')"
   ]
  },
  {
   "cell_type": "markdown",
   "metadata": {},
   "source": [
    "Уколико у програму постоји више услова који се контролишу тада се уместо вишеструких `if-else` наредби може користити `elif` наредба. <br>\n",
    "Приликом навођења `elif` секвенце **увек се наводи услов који се испитује**. Када се користи `else` секвенца **не наводи се услов**."
   ]
  },
  {
   "cell_type": "markdown",
   "metadata": {},
   "source": [
    "### Логички оператори (and, or, not)"
   ]
  },
  {
   "cell_type": "markdown",
   "metadata": {},
   "source": [
    "Приликом креирања услова у разгранатој структури могуће је осим релацијских оператора користити и логичке операторе и тиме постављати сложеније услове. \n",
    "На пример следећи сегмент угнеждене структуре можемо писати:\n",
    "```Python\n",
    "if vreme == sunčano\n",
    "   if temperatura > 25\n",
    "       idemo na kupanje\n",
    "```\n",
    " може се краће писати:\n",
    "```Python\n",
    "if vreme == sunčano and temperatura > 25:\n",
    "    idemo na kupanje\n",
    "```"
   ]
  },
  {
   "cell_type": "markdown",
   "metadata": {},
   "source": [
    "Логички оператори су: **and, **or** и **not**\n",
    "\n",
    "<img src=\"slike/logicki-operatori.jpg\">"
   ]
  },
  {
   "cell_type": "markdown",
   "metadata": {},
   "source": [
    "Примери коришћења логичких оператора:"
   ]
  },
  {
   "cell_type": "code",
   "execution_count": null,
   "metadata": {},
   "outputs": [],
   "source": [
    "x = 5\n",
    "y = 8\n",
    "z = 6\n",
    "print(x < y and y < z)\n",
    "print(x <= y and y > z)\n",
    "print(x == y or z < y)\n",
    "print(not(x < y))"
   ]
  },
  {
   "cell_type": "markdown",
   "metadata": {},
   "source": [
    "### Скраћено писање if наредбе"
   ]
  },
  {
   "cell_type": "markdown",
   "metadata": {},
   "source": [
    "ускоро"
   ]
  },
  {
   "cell_type": "markdown",
   "metadata": {},
   "source": [
    "### Задаци за вежбу"
   ]
  },
  {
   "cell_type": "markdown",
   "metadata": {},
   "source": [
    "ускоро"
   ]
  }
 ],
 "metadata": {
  "kernelspec": {
   "display_name": "Python 3",
   "language": "python",
   "name": "python3"
  },
  "language_info": {
   "codemirror_mode": {
    "name": "ipython",
    "version": 3
   },
   "file_extension": ".py",
   "mimetype": "text/x-python",
   "name": "python",
   "nbconvert_exporter": "python",
   "pygments_lexer": "ipython3",
   "version": "3.7.4"
  }
 },
 "nbformat": 4,
 "nbformat_minor": 2
}
