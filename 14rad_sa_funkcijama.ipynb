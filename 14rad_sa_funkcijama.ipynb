{
 "cells": [
  {
   "cell_type": "markdown",
   "metadata": {},
   "source": [
    "<p style=\"text-align:center;\">Раде Стојаковић, Гимназија \"20. октобар\" Бачка Паланка</p>"
   ]
  },
  {
   "cell_type": "markdown",
   "metadata": {},
   "source": [
    "[Почетна страница](00pocetna.ipynb)"
   ]
  },
  {
   "cell_type": "markdown",
   "metadata": {},
   "source": [
    "## Рад са функцијама у Пајтону\n",
    "\n",
    "У овој лекцији можете прочитати:\n",
    "- [Предности коришћења функција](#Предности-коришћења-функција-у-програму)\n",
    "- [О типовима функција](#Типови-функција)\n",
    "- [Дефинисање функција](#Дефинисање-функције)\n",
    "- [Позивање функција](#Позивање-функције)\n",
    "- [Примери дефинисање функција](#Примери-дефинисања-функција)"
   ]
  },
  {
   "cell_type": "markdown",
   "metadata": {},
   "source": [
    "У програмима које смо до сада креирали користили смо функције а да о њима нисмо детаљније размишљали- Знали смо како се пиши и користе и чему служе и то нам је било довољно. Да бисмо користили функције морали смо знати име функције коју желимо користити, чему служи функција тј. шта ћемо добити као резултат коришћења функције и како да \"позовемо\" функцију да се изврши.\n",
    "\n",
    "Користили смо две врсте функцијa:\n",
    "\n",
    "- функције које се налазе у самом \"језгру\" пајтона, тј укључене се у основну структуру програмског језика (`print`, `input`, `round`, `format`...)\n",
    "- функције које се налазе у тзв. модулима или библиотекама. Да бисмо их користили морали смо увести модул или функцију и тада ју је програм препознао и могли смо је користити (`sqrt`, `randint`, `now`, `datetime`...)\n",
    "\n",
    "У наредних неколико лекција бавићемо се трећом врстом функција - **корисничким функцијама**. Корисничке функције креирају програмери и користе их у програмима које пишу."
   ]
  },
  {
   "cell_type": "markdown",
   "metadata": {},
   "source": [
    "У неколико ранијих примера описивали смо алгоритам за израчунавање зараде радника. У тим примерима зараду смо рачунали тако што смо множили цену једног сата са бројем сати које је радник провео на послу. Међутим тај алгоритам исувише једноставно описује начин обраде зараде.<br>\n",
    "Много реалнији алгоритам који би рачунао зараду радника могао би се приказати кроз неколико додатних задатака.\n",
    "\n",
    "Ти задаци би могли изгледати овако:<br>\n",
    "- уношење цене једног сата рада\n",
    "- уношење броја сати проведених на послу\n",
    "- уношење броја прековремених сати\n",
    "- уношење цене прековременог сата\n",
    "- рачунање бруто зараде радника\n",
    "- израчунавање одбитака за пореза и доприносе\n",
    "- израчунавање нето зараде\n",
    "- штампање обрачуна плате\n",
    "\n",
    "Већина програма обавља одређене задатке који су довољно сложени да се раздвоје на неколико подзадатака. Због тога програмери често деле програм у мање делове који се називају **функције**."
   ]
  },
  {
   "cell_type": "markdown",
   "metadata": {},
   "source": [
    "<div class=\"alert alert-block alert-info\">\n",
    "<b>Функцијa:</b> <br>\n",
    "    Функција је група наредби или израза које се налазе унутар програма и служе да извршавају одређени специфичан задатак.\n",
    "</div>"
   ]
  },
  {
   "cell_type": "markdown",
   "metadata": {},
   "source": [
    "Уместо да се пише велики програм састављен од дугачког низа наредби, он може бити написан у неколико мањих функција од којих свака извршава одређени део програм. Ти мањи делови тј. функције могу се извршавати у произвољном редоследу да би се извршио читав програм.\n",
    "\n",
    "Овакав приступ са често назива ***подели и владај*** због тога што се већи задатак дели у неколико мањих задатака или подзадатака који се лакше извршавају.\n",
    "\n",
    "Следећа слика илуструје успоредбу два начина писања програма:\n",
    "* једног који користи дугачку сложену секвенцу наредби и\n",
    "* другог који дели задатак у мање подзадатке који се обрађују помоћу функција\n",
    "\n"
   ]
  },
  {
   "cell_type": "markdown",
   "metadata": {},
   "source": [
    "![](slike/za_funkcije_01.jpg)"
   ]
  },
  {
   "cell_type": "markdown",
   "metadata": {},
   "source": [
    "Када користимо функције у програму, издваја се сваки задатак у програму у његову функцију. Тако би на пример сложенији програм за обрачун зарада могао имати следеће функције:\n",
    "- функцију за унос цене сата редовног рада, прековременог рада и другог додатног рада\n",
    "- функцију за унос сати редовног, прековременог и других врста рада\n",
    "- функцију која рачуна бруто зараду радника\n",
    "- функцију која рачуна одбитке за порезе и остале доприносе\n",
    "- функцију која рачуна нето зараду\n",
    "- функцију која штампа обрачун плате"
   ]
  },
  {
   "cell_type": "markdown",
   "metadata": {},
   "source": [
    "### Предности коришћења функција у програму\n",
    "Коришћење функција приликом решавања одређеног задатка у програмима може имати неколико предности:\n",
    "**Поједностављује код**<br>\n",
    "Програм је једноставнији и читљивији, а самим тим и лакши за разумети када је подељен у функције. Неколико мањих функција са лакше чита и тумачи него дугачка секвенца наредби<br>\n",
    "<br>\n",
    "**Поновно коришћење кода**<br>\n",
    "Функције такође смањују дуплицирање кода програма. Ако се одређена операција мора извршавати на неколико места у програму, тада се она пише у функцији, на једном месту и извршава било где када је потребно. То значи да функцију пишемо само на једном месту, а можемо је користити било где и колико год пута је потребно у самом програму.<br><br>\n",
    "**Лакше тестирање**<br>\n",
    "Када је задатак у програму подељен у функције и тестирање програма постаје знатно једноставније. Функције се могу тестирати независно једна од друге тј. програмер може тестирати сваку функцију појединачно и на тај начин лакше открити грешку. Ако је програм сачињен од једног низа наредби он се мора тестирати комплетно да би се откриле евентуалне грешке.<br><br>\n",
    "**Бржи развој програма**<br>\n",
    "Претпоставимо да програмер или група програмера развија неколико програма. Уколико у разним програмима постоје исти послови који треба да се изврше тј. исти задаци, не морају се писати у сваком програму. Уместо тога креира се функција која обавља одређени задатак и она ће се користити у сваком програму тј. бићи уграђена у сваки програм који захтева њено извршавање.<br><br>\n",
    "**Омогућавају тимски рад**<br>\n",
    "Када се развија сложени програм он се може поделити међу члановима тима тако да појединачни чланови развијају појединачне функције. Након тога се све функције обједињавају у један програм и на тај начин комплетира задатак.\n"
   ]
  },
  {
   "cell_type": "markdown",
   "metadata": {},
   "source": [
    "### Типови функција\n",
    "У пајтону постоје два типа функција:\n",
    "- функције које не враћају резултат (`void function`)\n",
    "- функције које враћају резултат (`value returning function`)\n",
    "\n",
    "Када позовемо тј. покренемо функцију која не враћа резултат она једноставно изврши наредбе од којих је састављена и завршава свој рад.\n",
    "\n",
    "Када се покрену функције које враћају резултат оне извршавају наредбе од којих су састављене и враћају вредност коју су израчунали назад у програм на место са којег су позване тј. покренуте.\n",
    "Тако на пример када позовемо (покренемо) `input` функцију она преузима податак који је корисник унео преко тастатуре и враћа тако унесен податак као стринг.\n",
    "\n",
    "`int` функција и `float` функција такође су пример функција које враћају резултат. Користећи `int` функцију ми јој прослеђујемо аргумент и она нам враћа тај аргумент претворен у цео број (`integer`) или децимални број (`float`).\n"
   ]
  },
  {
   "cell_type": "markdown",
   "metadata": {},
   "source": [
    "### Дефинисање функције\n",
    "\n",
    "Код који пишемо када креирамо функцију назива се **дефинисање функције**. Да бисмо извршили функцију морамо написати наредбу која позива функцију да се изврши.\n",
    "\n",
    "#### Имена функција\n",
    "Пре него што наведемо процес креирања и коришћења функција напоменућемо неколико ствари о именима функција. Као што именујемо променљиве које користимо у програму, исто тако морамо именовати и функције то јест доделити им име. Име функције треба да буде довољно описно да би било ко који чита код могао лако предвидети шта функција ради тј. која је њена сврха. \n",
    "\n",
    "Приликом именовања функција морамо се придржавати правила која важе и за именовање променљивих:\n",
    "-\tне могу се користити кључне речи за име функције\n",
    "-\tиме функције не сме да садржи размак\n",
    "-\tпрви карактер у имену мора бити слово или доња црта ( _ )\n",
    "-\tнакон првог карактера могу се наводити остала слова или цифре\n",
    "-\tразличито се тумаче мала и велика слова"
   ]
  },
  {
   "cell_type": "markdown",
   "metadata": {},
   "source": [
    "#### Дефинисање и позивање функције\n",
    "\n",
    "Да бисмо креирали функцију морамо написати њену дефиницију. На следећој слици је приказан општи облик дефинисања функције\n",
    "\n",
    "![definisanje_funkcije.jpg](attachment:definisanje_funkcije.jpg)\n",
    "\n",
    "Први ред у дефиницији функције представља **заглавље функције**. Оно означава почетак дефинисања функције. Заглавље функције почиње са кључном речи `def` након које наводимо **име функције**. Након имена функције наводимо отворену и затворену обичну заграду и после њих две тачке `:`.\n",
    "Након заглавља у следећем реду наводи се низ наредби које се називају **тело функције** или **блок функције**. Тело функције представља низ наредби које ће се извршити увек када се позове (покрене) функција.\n",
    "\n",
    "На слици можемо приметити да су наредбе које се налазе у телу функције увучене у односу на заглавље функције.\n",
    "\n",
    "Сада можемо видети конкретан пример једне функције. Ово није цео програм него само пример изгледа једне могуће функције.\n",
    "\n",
    "```Python\n",
    "def poruka():\n",
    "    print('Moje ime Marko Marković')\n",
    "    print('Idem u III razred gimnazije u Bačkoj Palanci')\n",
    "```\n",
    "\n",
    "Овај код дефинише функцију под именом `poruka`. У телу функције налазе се две наредбе за исписивање. Када се функција изврши те две реченице ће бити исписане на екрану."
   ]
  },
  {
   "cell_type": "markdown",
   "metadata": {},
   "source": [
    "### Позивање функције\n",
    "\n",
    "Дефинисање функције представља опис онога шта функција ради тј. које наредбе ће се извршавати али се оне не извршавају док се функција не позове. **Да би се функција извршила она се мора позвати**.\n",
    "\n",
    "Функција коју смо дефинисали у претходном примеру се позива навођењем њеног имена:\n",
    "\n",
    "``poruka()``\n",
    "\n",
    "Када се функција позове програм прелази на функцију и извршава наредбе у телу функције. Када се заврши извршавање наредби у телу функције, програм наставља са првом следећом наредбом после позива функције.\n",
    "Потпуни приказ програма који користи наведену функцију можемо видети у следећем примеру:"
   ]
  },
  {
   "cell_type": "code",
   "execution_count": null,
   "metadata": {},
   "outputs": [],
   "source": [
    "# Програм демонстрира употребу функције\n",
    "# На почетку дефинишемо функцију\n",
    "def poruka():\n",
    "   print('Ovo je primer funkcije.')\n",
    "   print('Izvršiće se kada je \"pozovemo\".')\n",
    "\n",
    "# након дефиниције позивамо функцију\n",
    "poruka()"
   ]
  },
  {
   "cell_type": "markdown",
   "metadata": {},
   "source": [
    "Када у програму користимо функције програм не почиње да се извршава од прве наредбе у листингу програма као што је то до сада био случај. Када програм дође до дефиниције функције (**линија 3**) он је смешта у меморију али је не извршава. У овом случају програм ће почети да се извршава од **линије 8** шта представља позив фукцији да се изврши. Када се та наредба изврши почињу се извршавати наредбе у телу функције (**линија 4 и 5**)."
   ]
  },
  {
   "cell_type": "markdown",
   "metadata": {},
   "source": [
    "### Примери дефинисања функција\n",
    "\n",
    "Кроз следећа 4 примера видећемо како се могу дефинисати и позивати фунције.\n",
    "\n",
    "Први пример представља дефинисање најједноставније функције. Она у свом раду не користи променљиве нити свој резултат враћа у програм. Она само исписује одрећене поруке на екрану\n",
    "\n",
    "```Python\n",
    "def funkcija1():\n",
    "    print('Ovo je funkcija bez promenljivih')\n",
    "    print('samo ispisuje odre]ene poruke')\n",
    "```\n",
    "\n",
    "У следећем примеру дефинишемо функцију која за рад користи свој променљиве и исписује поруке.\n",
    "```Python\n",
    "def funkcija2():\n",
    "    print('Ovo je funkcija sa lokalnim promenljivima')\n",
    "    br1 = int(input('Unesi prvi broj: '))\n",
    "    br2 = int(input('Unesi drugi broj: '))\n",
    "    print(f'Zbir brojeva {br1} i {br2} je {br1 + br2}')\n",
    " ```\n",
    " У функцији се уноси вресност за две локалне променљиве (локалне - користе се само у функцији). У функцији се исписује збир два унесена броја.\n",
    " \n",
    " Трећи пример приказује функцију која не користи своје променљиве већ вресности за променљиве добија из главног програма (или из друге функције).\n",
    " \n",
    "```Python\n",
    "def funkcija3(x, y):\n",
    "    print('Ovo je funkcija sa argumentima')\n",
    "    print('Vrednosti za x i y se dobijaju iz programa')\n",
    "    print(f'Zbir brojeva {x} i {y} je {x + y}')\n",
    " ```\n",
    "У горњем примеру променљиве `х` и `у` представљају **параметре функције**. Они ће добити вредности које им се \"пошаљу\" из главног програма или из друге функције. Након што параметри приме вредности, те вредности се користе за операције унутар функције. На крају се исписује порука о збиру два броја.\n",
    "\n",
    "У последњем примеру ћемо видети начин дефинисање функције која добија вредности из других делова програма, врши обраду тих вредности и резултат враћа у онај део програма са кога је позвана да се изврши.\n",
    "\n",
    "```Python\n",
    "def funkcija4(а, b)\n",
    "    from math import sqrt\n",
    "    c = sqrt(a ** 2 + b ** 2)\n",
    "    return c\n",
    " ``` \n",
    " У горњој функцији променљиве `а` и `b` добијају вредности из другог дела програма. Након што су додељене вредности у функцији се израчунава вресност и резултат додељује променљивој с. Тако израчуната вредност се враћа из функције (прослеђује) на оно место са ког аје позвана функција.\n",
    " \n",
    "Да би се функција извршила она се мора позвати из програма или друге функције. Позивање се обавља наводећи име функције и аргумената које се шаљу функцији.\n",
    "\n",
    "Примери позива претходно дефинисаних функција:\n",
    "```Python\n",
    "funkcija1()\n",
    "\n",
    "funkcija2()\n",
    "\n",
    "funkcija3(4, 5)\n",
    "\n",
    "hipotenuza = funkcija4(5, 6)\n",
    "```\n",
    "\n",
    "Комплетан програм који илуструје дефинисање и позивање разних врста функција можете испробати у следећем примеру:\n"
   ]
  },
  {
   "cell_type": "code",
   "execution_count": null,
   "metadata": {},
   "outputs": [],
   "source": [
    "def funkcija1():\n",
    "    print('\\n----------Funkcija1-----------')\n",
    "    print('Ovo je funkcija bez promenljivih')\n",
    "    print('samo ispisuje određene poruke')\n",
    "\n",
    "def funkcija2():\n",
    "    print('\\n----------Funkcija2-----------')\n",
    "    print('Ovo je funkcija sa lokalnim promenljivima')\n",
    "    br1 = int(input('Unesi prvi broj: '))\n",
    "    br2 = int(input('Unesi drugi broj: '))\n",
    "    print(f'Zbir brojeva {br1} i {br2} je {br1 + br2}')\n",
    "\n",
    "def funkcija3(x,y):\n",
    "    print('\\n----------Funkcija3-----------')\n",
    "    print('Ovo je funkcija sa argumentima')\n",
    "    print('Vrednosti za x i y se dobijaju iz progama')\n",
    "    print(f'Zbir brojeva {x} i {y} je {x + y}')\n",
    "    \n",
    "def funkcija4(a,b):\n",
    "    from math import sqrt\n",
    "    c = sqrt(a ** 2 + b ** 2)\n",
    "    return c\n",
    "\n",
    "\n",
    "funkcija1()\n",
    "funkcija2()\n",
    "\n",
    "print('\\n----------Glavni program-----------')\n",
    "broj1 = int(input('Unesi prvi broj: '))\n",
    "broj2 = int(input('Unesi drugi broj: '))\n",
    "funkcija3(broj1, broj2)\n",
    "\n",
    "print('\\n------------Funkcija4--------------')\n",
    "hip = funkcija4(broj1, broj2)\n",
    "print(f'Za katete {broj1} i {broj2} hipotenuza je {hip}')"
   ]
  },
  {
   "attachments": {
    "restart_kernel.jpg": {
     "image/jpeg": "[encoded data removed]"
    }
   },
   "cell_type": "markdown",
   "metadata": {},
   "source": [
    "<div class=\"alert alert-block alert-danger\">\n",
    "    \n",
    "<b>ВАЖНО:</b> <br>\n",
    "    Ако програм покрећете више пута Jupyter свеска \"памти\" покренуте функције па се може десити да извршавање буде очекивано само приликом првог покретања. Пошто је након покретања функција остала у меморији, програм може да се покреће другим редоследом.<br> <br>\n",
    "Да бисте \"освежили\" све програме у свесци из менија **`Kernel`** (у горњем делу екрана) изаберите ставку **`Restart`** и у дијалогу који ће се отворити избаерите дугме **`Restart`** и поново покрените програм\n",
    "    \n",
    "![restart_kernel.jpg](attachment:restart_kernel.jpg)\n",
    "</div>"
   ]
  },
  {
   "cell_type": "markdown",
   "metadata": {},
   "source": [
    "[врх странице](#Рад-са-функцијама-у-Пајтону)"
   ]
  }
 ],
 "metadata": {
  "kernelspec": {
   "display_name": "Python 3",
   "language": "python",
   "name": "python3"
  },
  "language_info": {
   "codemirror_mode": {
    "name": "ipython",
    "version": 3
   },
   "file_extension": ".py",
   "mimetype": "text/x-python",
   "name": "python",
   "nbconvert_exporter": "python",
   "pygments_lexer": "ipython3",
   "version": "3.7.6"
  }
 },
 "nbformat": 4,
 "nbformat_minor": 2
}
