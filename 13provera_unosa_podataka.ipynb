{
 "cells": [
  {
   "cell_type": "markdown",
   "metadata": {},
   "source": [
    "<p style=\"text-align:center;\">Раде Стојаковић, Гимназија \"20. октобар\" Бачка Паланка</p>"
   ]
  },
  {
   "cell_type": "markdown",
   "metadata": {},
   "source": [
    "[Почетна страница](00pocetna.ipynb)"
   ]
  },
  {
   "cell_type": "markdown",
   "metadata": {},
   "source": [
    "### Провера (валидација) уноса података"
   ]
  },
  {
   "cell_type": "markdown",
   "metadata": {},
   "source": [
    "Провера (валидација) уноса је процес провере унесеног податка да бисмо били сигурни да је исправан пре него што га употребимо у израчунавању у програму. Провера уноса се обично врши унутар петље која се понавља све док уносимо погрешне податке.\n",
    "\n",
    "За почетак погледамо следећи пример. Да ли постоји грешка у функционисању програма?"
   ]
  },
  {
   "cell_type": "code",
   "execution_count": 1,
   "metadata": {},
   "outputs": [
    {
     "name": "stdout",
     "output_type": "stream",
     "text": [
      "Unesite cenu sata: 320\n",
      "Unesi broj sati: 400\n",
      "\n",
      "Nedeljna zarada iznosi: 128000.0 din.\n"
     ]
    }
   ],
   "source": [
    "# program ispisuje nedeljnu zaradu\n",
    "# ako je poznat broj radnih sati i cena sata\n",
    "\n",
    "# unos cene sata\n",
    "cena = float(input(\"Unesite cenu sata: \"))\n",
    "\n",
    "# unos broja sati rada u sedmici\n",
    "brojSati = int(input(\"Unesi broj sati: \"))\n",
    "\n",
    "plata = cena * brojSati\n",
    "\n",
    "print(f\"\\nNedeljna zarada iznosi: {plata} din.\")"
   ]
  },
  {
   "cell_type": "markdown",
   "metadata": {},
   "source": [
    "Када радник прими плату вероватно ће бити угодно изненађен са износом који је добио за недељну зараду. Особа која је уносила податке вероватно је за број сати рада хтела да уместо 400 сати рада у току седмице упише 40. Пошто у програму нема синтаксних грешака он ће се извршити. Програм не може да “закључи” шта смо хтели унети уместо онога шта смо заиста унели.\n",
    "\n",
    "Шта би у овом случају још могао бити погрешан податак? Унос негативног броја за сате проведено на послу овај програм такође не би детектовао тако да су и негативни сати у ствари исправни подаци. \n",
    "\n",
    "Често се може прочитати како је услед рачунарске грешке дошло до неисправних резултата. У ствари много чешће се јавља случај да су грешке настале услед погрешно унесених података или погрешних начина обраде података, а не грешком рачунара.<br> \n",
    "Тачност излазних резултата много зависи од тачности улазних података. Због тога је често потребно дизајнирати програм тако да одбацује све погрешне улазне податке. \n",
    "\n",
    "Када се податак унесе он треба да се провери пре него што се искористи у израчунавање. Ако је податак неисправан програм треба да га одбаци и захтева од корисника да унесе исправан податак.<br>\n",
    "Тај процес се назива **валидација уноса или провера уноса података**.<br>\n",
    "\n",
    "На следећој слици можемо видети најчешћи начин за проверу уноса података. \n",
    "\n",
    "![Provera unosa podataka](slike/proveraPodatkaDijagram.png)\n",
    "\n",
    "Видимо да се прво уноси податак и након уноса се извршава петља. **Ако податак није исправан извршавају се наредбе у телу петље**. Петља приказује поруку о грешки и тако корисника упозорава да је унео погрешан податак. Након тога тражи се од корисника да унесе исправан податак. **Петља се извршава све док се уносе погрешни подаци**.\n",
    "\n",
    "Можемо на слици приметити да податак уносимо на два места: прво пре саме петље, а затим унутар петље. Ако је податак исправан петља се неће ни извршавати. Ако је податак погрешан, морамо унутар петље захтевати ново уношење податка.\n",
    "Коришћење while петље за проверу уноса могли би писати на следећи начин:"
   ]
  },
  {
   "cell_type": "code",
   "execution_count": 2,
   "metadata": {},
   "outputs": [
    {
     "name": "stdout",
     "output_type": "stream",
     "text": [
      "Unesite cenu sata: 350\n",
      "Unesi broj sati: 55\n",
      "Greška kod unosa broja sati.\n",
      "Unesite ispravan broj sati: 40\n",
      "\n",
      "Nedeljna zarada iznosi: 14000.0 din.\n"
     ]
    }
   ],
   "source": [
    "cena = float(input(\"Unesite cenu sata: \"))\n",
    "brojSati = int(input(\"Unesi broj sati: \"))\n",
    "while brojSati < 0 or brojSati > 50:\n",
    "    print(\"Greška kod unosa broja sati.\")\n",
    "    brojSati = int(input(\"Unesite ispravan broj sati: \"))\n",
    "\n",
    "plata = cena * brojSati\n",
    "\n",
    "print(f\"\\nNedeljna zarada iznosi: {plata} din.\")"
   ]
  },
  {
   "cell_type": "markdown",
   "metadata": {},
   "source": [
    "Погледајмо следећи пример:\n",
    "претпоставимо да дизајнирамо програм у који уносимо резултате теста за ученика и желимо бити сигурни да не можемо унети податак мањи од нуле. У следећем примеру приказан је начин на који користимо проверу уноса у којој одбацујемо све податке који су мањи од нуле."
   ]
  },
  {
   "cell_type": "code",
   "execution_count": 3,
   "metadata": {},
   "outputs": [
    {
     "name": "stdout",
     "output_type": "stream",
     "text": [
      "Unesite osvojen broj bodova: -75\n",
      "GREŠKA: Broj bodova ne može biti negativan!\n",
      "Unesite ispravan broj bodova: 75\n",
      "Osvojeno 75 bodova.\n"
     ]
    }
   ],
   "source": [
    "# Unošenje rezultata testa\n",
    "bodovi = int(input(\"Unesite osvojen broj bodova: \"))\n",
    "\n",
    "# Provera da li je broj bodova manji od 0\n",
    "while bodovi < 0:\n",
    "   print(\"GREŠKA: Broj bodova ne može biti negativan!\")\n",
    "   bodovi = int(input(\"Unesite ispravan broj bodova: \"))\n",
    "\n",
    "print(f\"Osvojeno {bodovi} bodova.\")"
   ]
  },
  {
   "cell_type": "markdown",
   "metadata": {},
   "source": [
    "Програм прво тражи од корисника да унесе резултат теста, а затим се помоћу **`while`** петље проверава да ли је унесени податак мањи од нуле. Ако је корисник унео исправан резултат логички услов у заглављу **`while`** петље ће бити нетачан и петља се неће извршити. Ако је унесени податак био неисправан, логички услов ће бити тачан и извршиће се наредбе у телу петље. Унутар петље приказује се порука о погрешном уносу и тражи од корисника да унесе исправан податак. Петља ће се извршавати све да корисник уноси неисправан резултат теста.\n",
    "\n",
    "У наведеном примеру одбацују се само негативне улазне вредности. Шта ћемо радити ако желимо одбацити и резултати који су већи од максималног број бодова? Можемо једноставно изменити логички услов којим ћемо контролисати који су то погрешни подаци."
   ]
  },
  {
   "cell_type": "code",
   "execution_count": 4,
   "metadata": {},
   "outputs": [
    {
     "name": "stdout",
     "output_type": "stream",
     "text": [
      "Unesite mogući broj bodova: 80\n",
      "Unesite osvojen broj bodova: 100\n",
      "GREŠKA: Broj bodova ne može biti negativan ili veći od 80!\n",
      "Unesite ispravan broj bodova: 73\n",
      "\n",
      "Osvojeno 73 od 80 bodova.\n",
      "Uspešnost učenika iznosi 91.25%\n"
     ]
    }
   ],
   "source": [
    "# Definisanje ukupnog broja bodova koje je moguće ostvariti\n",
    "ukupno = int(input(\"Unesite mogući broj bodova: \"))\n",
    "\n",
    "# Unošenje rezultata testa\n",
    "bodovi = int(input(\"Unesite osvojen broj bodova: \"))\n",
    "\n",
    "# Provera da li je broj bodova manji od 0 ili veći od ukupnog broja\n",
    "while bodovi < 0 or bodovi > ukupno:\n",
    "   print(f\"GREŠKA: Broj bodova ne može biti negativan ili veći od {ukupno}!\")\n",
    "   bodovi = int(input(\"Unesite ispravan broj bodova: \"))\n",
    "\n",
    "print(f\"\\nOsvojeno {bodovi} od {ukupno} bodova.\")\n",
    "print(f\"Uspešnost učenika iznosi {bodovi / ukupno:.2%}\")"
   ]
  },
  {
   "cell_type": "markdown",
   "metadata": {},
   "source": [
    "У петљи контролишемо да ли је резултат мањи од нуле или већи од укупног броја могућих бодова. Ако је нешто од тога тачно, приказује се порука о неисправном уносу и тражи од корисника да понови унос."
   ]
  },
  {
   "cell_type": "markdown",
   "metadata": {},
   "source": [
    "[врх странице](#Провера-(валидација)-уноса-података)"
   ]
  }
 ],
 "metadata": {
  "kernelspec": {
   "display_name": "Python 3",
   "language": "python",
   "name": "python3"
  },
  "language_info": {
   "codemirror_mode": {
    "name": "ipython",
    "version": 3
   },
   "file_extension": ".py",
   "mimetype": "text/x-python",
   "name": "python",
   "nbconvert_exporter": "python",
   "pygments_lexer": "ipython3",
   "version": "3.7.5"
  }
 },
 "nbformat": 4,
 "nbformat_minor": 2
}
